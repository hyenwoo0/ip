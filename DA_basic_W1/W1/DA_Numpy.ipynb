{
 "cells": [
  {
   "cell_type": "markdown",
   "metadata": {},
   "source": [
    "# Numpy 기초"
   ]
  },
  {
   "cell_type": "markdown",
   "metadata": {},
   "source": [
    "- numpy는 수치 데이터를 다루기 위한 라이브러리\n",
    "- 다차원 배열 구조인 ndarray 지원\n",
    "- 선형대수계산 등 행렬 연산에 주로 사용"
   ]
  },
  {
   "cell_type": "code",
   "execution_count": 1,
   "metadata": {},
   "outputs": [
    {
     "name": "stdout",
     "output_type": "stream",
     "text": [
      "2.2.3\n"
     ]
    }
   ],
   "source": [
    "import numpy as np\n",
    "\n",
    "print(np.__version__) # 설치된 numpy가 제대로 동작하는지 확인"
   ]
  },
  {
   "cell_type": "markdown",
   "metadata": {},
   "source": [
    "## 1. 배열의 생성"
   ]
  },
  {
   "cell_type": "markdown",
   "metadata": {},
   "source": [
    "### (1) 리스트 사용하여 생성하기"
   ]
  },
  {
   "cell_type": "code",
   "execution_count": 2,
   "metadata": {},
   "outputs": [
    {
     "name": "stdout",
     "output_type": "stream",
     "text": [
      "[1 2 3 4 5]\n",
      "<class 'numpy.ndarray'>\n",
      "(5,)\n",
      "1\n"
     ]
    }
   ],
   "source": [
    "ar1 = np.array([1, 2, 3, 4, 5])\n",
    "\n",
    "print(ar1)\n",
    "print(type(ar1))\n",
    "print(ar1.shape) # 행렬 구조 표시\n",
    "print(ar1.ndim)  # 행열의 차원 표시"
   ]
  },
  {
   "cell_type": "code",
   "execution_count": 3,
   "metadata": {},
   "outputs": [
    {
     "name": "stdout",
     "output_type": "stream",
     "text": [
      "[[10 20 30]\n",
      " [40 50 60]]\n",
      "(2, 3)\n",
      "2\n"
     ]
    }
   ],
   "source": [
    "ar2 = np.array([[10, 20, 30],[40, 50, 60]])\n",
    "\n",
    "print(ar2)\n",
    "print(ar2.shape) # 행렬 구조 표시\n",
    "print(ar2.ndim)  # 행렬의 차원 표시"
   ]
  },
  {
   "cell_type": "markdown",
   "metadata": {},
   "source": [
    "### (2) 값의 범위 지정하여 생성하기"
   ]
  },
  {
   "cell_type": "code",
   "execution_count": 4,
   "metadata": {},
   "outputs": [
    {
     "name": "stdout",
     "output_type": "stream",
     "text": [
      "[1 3 5 7 9]\n"
     ]
    }
   ],
   "source": [
    "ar3 = np.arange(1, 11, 2) # 시작, 마지막 값 + 1, 스텝간격 \n",
    "\n",
    "print(ar3)"
   ]
  },
  {
   "cell_type": "markdown",
   "metadata": {},
   "source": [
    "### (3) 구조를 지정하여 생성하기"
   ]
  },
  {
   "cell_type": "code",
   "execution_count": 5,
   "metadata": {},
   "outputs": [
    {
     "name": "stdout",
     "output_type": "stream",
     "text": [
      "[[1 2]\n",
      " [3 4]\n",
      " [5 6]]\n"
     ]
    }
   ],
   "source": [
    "ar4 = np.array([1, 2, 3, 4, 5, 6]).reshape((3,2))  # 3행 2열로 구조 변경\n",
    "\n",
    "print(ar4)"
   ]
  },
  {
   "cell_type": "markdown",
   "metadata": {},
   "source": [
    "### (4) 초기값과 구조 지정하여 생성하기"
   ]
  },
  {
   "cell_type": "code",
   "execution_count": 6,
   "metadata": {},
   "outputs": [
    {
     "name": "stdout",
     "output_type": "stream",
     "text": [
      "[[0. 0. 0.]\n",
      " [0. 0. 0.]]\n"
     ]
    }
   ],
   "source": [
    "ar5 = np.zeros((2,3))\n",
    "\n",
    "print(ar5)"
   ]
  },
  {
   "cell_type": "code",
   "execution_count": 7,
   "metadata": {},
   "outputs": [
    {
     "name": "stdout",
     "output_type": "stream",
     "text": [
      "[[1. 1.]\n",
      " [1. 1.]\n",
      " [1. 1.]]\n"
     ]
    }
   ],
   "source": [
    "ar6 = np.ones((3,2))\n",
    "\n",
    "print(ar6)"
   ]
  },
  {
   "cell_type": "code",
   "execution_count": 8,
   "metadata": {},
   "outputs": [
    {
     "name": "stdout",
     "output_type": "stream",
     "text": [
      "[[5 5 5]\n",
      " [5 5 5]]\n"
     ]
    }
   ],
   "source": [
    "ar7 = np.full((2,3), 5)   # 모든 원소가 5인 2*3 행렬\n",
    "\n",
    "print(ar7)"
   ]
  },
  {
   "cell_type": "code",
   "execution_count": 9,
   "metadata": {},
   "outputs": [
    {
     "name": "stdout",
     "output_type": "stream",
     "text": [
      "[[1. 0. 0.]\n",
      " [0. 1. 0.]\n",
      " [0. 0. 1.]]\n"
     ]
    }
   ],
   "source": [
    "ar8 = np.eye(3)   # 단위 행렬\n",
    "\n",
    "print(ar8)"
   ]
  },
  {
   "cell_type": "markdown",
   "metadata": {},
   "source": [
    "## 2. 억세스 하기"
   ]
  },
  {
   "cell_type": "markdown",
   "metadata": {},
   "source": [
    "### (1) 배열의 원소 접근하기"
   ]
  },
  {
   "cell_type": "code",
   "execution_count": 10,
   "metadata": {},
   "outputs": [
    {
     "name": "stdout",
     "output_type": "stream",
     "text": [
      "10\n"
     ]
    }
   ],
   "source": [
    "print(ar2[0,0])"
   ]
  },
  {
   "cell_type": "code",
   "execution_count": 11,
   "metadata": {},
   "outputs": [
    {
     "name": "stdout",
     "output_type": "stream",
     "text": [
      "1\n"
     ]
    }
   ],
   "source": [
    "print(ar4[0,0])"
   ]
  },
  {
   "cell_type": "markdown",
   "metadata": {},
   "source": [
    "### (2) numpy 슬라이싱"
   ]
  },
  {
   "cell_type": "code",
   "execution_count": 12,
   "metadata": {},
   "outputs": [
    {
     "name": "stdout",
     "output_type": "stream",
     "text": [
      "[[10 20]\n",
      " [40 50]]\n"
     ]
    }
   ],
   "source": [
    "ar9 = ar2[0:2, 0:2]   \n",
    "\n",
    "print(ar9)"
   ]
  },
  {
   "cell_type": "code",
   "execution_count": 13,
   "metadata": {},
   "outputs": [
    {
     "name": "stdout",
     "output_type": "stream",
     "text": [
      "[10 20 30]\n"
     ]
    }
   ],
   "source": [
    "ar9 = ar2[0, :]  # 0행의 모든 열을 슬라이싱\n",
    "\n",
    "print(ar9)"
   ]
  },
  {
   "cell_type": "markdown",
   "metadata": {},
   "source": [
    "![다양한 슬라이싱 형태](../resource/W1/slicings.png)"
   ]
  },
  {
   "cell_type": "markdown",
   "metadata": {},
   "source": [
    "## 3. Numpy 연산"
   ]
  },
  {
   "cell_type": "markdown",
   "metadata": {},
   "source": [
    "- 배열간/행열간 연산 가능\n",
    "- +, -, *, / 연산"
   ]
  },
  {
   "cell_type": "markdown",
   "metadata": {},
   "source": [
    "### (1) numpy 사칙연산"
   ]
  },
  {
   "cell_type": "code",
   "execution_count": 14,
   "metadata": {},
   "outputs": [
    {
     "name": "stdout",
     "output_type": "stream",
     "text": [
      "[11 12 13 14 15]\n"
     ]
    }
   ],
   "source": [
    "ar10 = ar1 + 10\n",
    "\n",
    "print(ar10)"
   ]
  },
  {
   "cell_type": "code",
   "execution_count": 15,
   "metadata": {},
   "outputs": [
    {
     "name": "stdout",
     "output_type": "stream",
     "text": [
      "[12 14 16 18 20]\n"
     ]
    }
   ],
   "source": [
    "ar11 = ar1 + ar10\n",
    "\n",
    "print(ar11)"
   ]
  },
  {
   "cell_type": "code",
   "execution_count": 16,
   "metadata": {},
   "outputs": [
    {
     "name": "stdout",
     "output_type": "stream",
     "text": [
      "[11 12 13 14 15]\n"
     ]
    }
   ],
   "source": [
    "ar12 = ar11 - ar1\n",
    "\n",
    "print(ar12)"
   ]
  },
  {
   "cell_type": "code",
   "execution_count": 17,
   "metadata": {},
   "outputs": [
    {
     "name": "stdout",
     "output_type": "stream",
     "text": [
      "[ 2  4  6  8 10]\n"
     ]
    }
   ],
   "source": [
    "ar13 = ar1 * 2\n",
    "\n",
    "print(ar13)"
   ]
  },
  {
   "cell_type": "code",
   "execution_count": 18,
   "metadata": {},
   "outputs": [
    {
     "name": "stdout",
     "output_type": "stream",
     "text": [
      "[0.5 1.  1.5 2.  2.5]\n"
     ]
    }
   ],
   "source": [
    "ar14 = ar1 / 2\n",
    "\n",
    "print(ar14)"
   ]
  },
  {
   "cell_type": "markdown",
   "metadata": {},
   "source": [
    "### (2) numpy 행렬곱 연산"
   ]
  },
  {
   "cell_type": "code",
   "execution_count": 19,
   "metadata": {},
   "outputs": [
    {
     "name": "stdout",
     "output_type": "stream",
     "text": [
      "[[220 280]\n",
      " [490 640]]\n"
     ]
    }
   ],
   "source": [
    "ar15 = np.dot(ar2, ar4)\n",
    "\n",
    "print(ar15)"
   ]
  },
  {
   "cell_type": "markdown",
   "metadata": {},
   "source": [
    "### (3) 모든 원소의 합 sum()"
   ]
  },
  {
   "cell_type": "code",
   "execution_count": 20,
   "metadata": {},
   "outputs": [
    {
     "name": "stdout",
     "output_type": "stream",
     "text": [
      "21\n"
     ]
    }
   ],
   "source": [
    "a = np.array([[1, 2, 3],[4, 5, 6]])\n",
    "s = np.sum(a)\n",
    "\n",
    "print(s)"
   ]
  },
  {
   "cell_type": "code",
   "execution_count": 21,
   "metadata": {},
   "outputs": [
    {
     "name": "stdout",
     "output_type": "stream",
     "text": [
      "21\n"
     ]
    }
   ],
   "source": [
    "print(a.sum())"
   ]
  },
  {
   "cell_type": "markdown",
   "metadata": {},
   "source": [
    "### (4) 모든 원소의 곱 prod()"
   ]
  },
  {
   "cell_type": "code",
   "execution_count": 22,
   "metadata": {},
   "outputs": [
    {
     "name": "stdout",
     "output_type": "stream",
     "text": [
      "720\n"
     ]
    }
   ],
   "source": [
    "p = np.prod(a)\n",
    "\n",
    "print(p)"
   ]
  },
  {
   "cell_type": "code",
   "execution_count": 23,
   "metadata": {},
   "outputs": [
    {
     "name": "stdout",
     "output_type": "stream",
     "text": [
      "720\n"
     ]
    }
   ],
   "source": [
    "print(a.prod())"
   ]
  },
  {
   "cell_type": "markdown",
   "metadata": {},
   "source": [
    "### (5) 평균과 분산 값 구하기"
   ]
  },
  {
   "cell_type": "code",
   "execution_count": 24,
   "metadata": {},
   "outputs": [
    {
     "name": "stdout",
     "output_type": "stream",
     "text": [
      "3.5\n"
     ]
    }
   ],
   "source": [
    "print(a.mean())"
   ]
  },
  {
   "cell_type": "code",
   "execution_count": 25,
   "metadata": {},
   "outputs": [
    {
     "name": "stdout",
     "output_type": "stream",
     "text": [
      "1.707825127659933\n"
     ]
    }
   ],
   "source": [
    "print(a.std())"
   ]
  },
  {
   "cell_type": "markdown",
   "metadata": {},
   "source": [
    "## 4. 수학함수"
   ]
  },
  {
   "cell_type": "markdown",
   "metadata": {},
   "source": [
    "![수학함수](../resource/W1/maths.png)"
   ]
  },
  {
   "cell_type": "markdown",
   "metadata": {},
   "source": [
    "## 5. 선형대수(벡터/행렬연산)함수"
   ]
  },
  {
   "cell_type": "markdown",
   "metadata": {},
   "source": [
    "![선형대수함수](../resource/W1/linearalgebra.png)"
   ]
  },
  {
   "cell_type": "markdown",
   "metadata": {},
   "source": [
    "### (1) 벡터 내적"
   ]
  },
  {
   "cell_type": "code",
   "execution_count": 26,
   "metadata": {},
   "outputs": [
    {
     "name": "stdout",
     "output_type": "stream",
     "text": [
      "-19\n",
      "-19\n"
     ]
    }
   ],
   "source": [
    "x = np.array([1, -2, 3])\n",
    "y = np.array([3, 5, -4])\n",
    "\n",
    "print(x.dot(y.T))\n",
    "print(x.T.dot(y))"
   ]
  },
  {
   "cell_type": "code",
   "execution_count": 27,
   "metadata": {},
   "outputs": [
    {
     "name": "stdout",
     "output_type": "stream",
     "text": [
      "[[1 2 3]\n",
      " [4 5 6]]\n",
      "[[ 6 23]\n",
      " [-1  7]\n",
      " [ 8  9]]\n"
     ]
    }
   ],
   "source": [
    "x = np.array([[1, 2, 3],[4, 5, 6]])\n",
    "y = np.array([[6, 23],[-1, 7],[8,9]])\n",
    "\n",
    "print(x)\n",
    "print(y)"
   ]
  },
  {
   "cell_type": "code",
   "execution_count": 28,
   "metadata": {},
   "outputs": [
    {
     "name": "stdout",
     "output_type": "stream",
     "text": [
      "[[ 28  64]\n",
      " [ 67 181]]\n",
      "[[ 98 127 156]\n",
      " [ 27  33  39]\n",
      " [ 44  61  78]]\n"
     ]
    }
   ],
   "source": [
    "print(x.dot(y))\n",
    "print(y.dot(x))"
   ]
  },
  {
   "cell_type": "markdown",
   "metadata": {},
   "source": [
    "### (2) 역행렬"
   ]
  },
  {
   "cell_type": "code",
   "execution_count": 29,
   "metadata": {},
   "outputs": [
    {
     "name": "stdout",
     "output_type": "stream",
     "text": [
      "[[1 2 3]\n",
      " [1 0 0]\n",
      " [0 0 1]]\n"
     ]
    }
   ],
   "source": [
    "from numpy.linalg import inv\n",
    "\n",
    "np.random.seed()\n",
    "X = np.array([[1, 2, 3], [1, 0, 0], [0, 0, 1]])\n",
    "print(X)"
   ]
  },
  {
   "cell_type": "code",
   "execution_count": 30,
   "metadata": {},
   "outputs": [
    {
     "name": "stdout",
     "output_type": "stream",
     "text": [
      "[[ 0.   1.   0. ]\n",
      " [ 0.5 -0.5 -1.5]\n",
      " [ 0.   0.   1. ]]\n"
     ]
    }
   ],
   "source": [
    "Y = inv(X)\n",
    "print(Y)"
   ]
  },
  {
   "cell_type": "code",
   "execution_count": 31,
   "metadata": {},
   "outputs": [
    {
     "name": "stdout",
     "output_type": "stream",
     "text": [
      "[[1. 0. 0.]\n",
      " [0. 1. 0.]\n",
      " [0. 0. 1.]]\n"
     ]
    }
   ],
   "source": [
    "print(X.dot(Y))"
   ]
  },
  {
   "cell_type": "markdown",
   "metadata": {},
   "source": [
    "## 6. 랜덤넘버 생성"
   ]
  },
  {
   "cell_type": "markdown",
   "metadata": {},
   "source": [
    "![랜덤변수](../resource/W1/randomvar.png)"
   ]
  },
  {
   "cell_type": "markdown",
   "metadata": {},
   "source": [
    "### (1) 균등분포"
   ]
  },
  {
   "cell_type": "code",
   "execution_count": 32,
   "metadata": {},
   "outputs": [
    {
     "data": {
      "text/plain": [
       "(array([58., 52., 46., 40., 53., 46., 48., 60., 56., 47., 49., 51., 47.,\n",
       "        37., 41., 60., 46., 58., 53., 52.]),\n",
       " array([3.81880791e-05, 4.99619995e-02, 9.98858110e-02, 1.49809622e-01,\n",
       "        1.99733434e-01, 2.49657245e-01, 2.99581057e-01, 3.49504868e-01,\n",
       "        3.99428680e-01, 4.49352491e-01, 4.99276303e-01, 5.49200114e-01,\n",
       "        5.99123925e-01, 6.49047737e-01, 6.98971548e-01, 7.48895360e-01,\n",
       "        7.98819171e-01, 8.48742983e-01, 8.98666794e-01, 9.48590606e-01,\n",
       "        9.98514417e-01]),\n",
       " <BarContainer object of 20 artists>)"
      ]
     },
     "execution_count": 32,
     "metadata": {},
     "output_type": "execute_result"
    },
    {
     "data": {
      "image/png": "[encoded data removed]",
      "text/plain": [
       "<Figure size 640x480 with 1 Axes>"
      ]
     },
     "metadata": {},
     "output_type": "display_data"
    }
   ],
   "source": [
    "x = np.random.uniform(size=1000)\n",
    "\n",
    "import matplotlib.pyplot as plt\n",
    "\n",
    "plt.hist(x, bins=20)"
   ]
  },
  {
   "cell_type": "markdown",
   "metadata": {},
   "source": [
    "### (2) 정규분포"
   ]
  },
  {
   "cell_type": "code",
   "execution_count": 33,
   "metadata": {},
   "outputs": [
    {
     "data": {
      "text/plain": [
       "(array([  4.,  12.,  21.,  33.,  48.,  96.,  88., 132., 124., 109., 128.,\n",
       "         66.,  50.,  42.,  26.,  12.,   5.,   2.,   1.,   1.]),\n",
       " array([-2.82843347, -2.50531694, -2.1822004 , -1.85908386, -1.53596733,\n",
       "        -1.21285079, -0.88973426, -0.56661772, -0.24350119,  0.07961535,\n",
       "         0.40273189,  0.72584842,  1.04896496,  1.37208149,  1.69519803,\n",
       "         2.01831456,  2.3414311 ,  2.66454764,  2.98766417,  3.31078071,\n",
       "         3.63389724]),\n",
       " <BarContainer object of 20 artists>)"
      ]
     },
     "execution_count": 33,
     "metadata": {},
     "output_type": "execute_result"
    },
    {
     "data": {
      "image/png": "[encoded data removed]",
      "text/plain": [
       "<Figure size 640x480 with 1 Axes>"
      ]
     },
     "metadata": {},
     "output_type": "display_data"
    }
   ],
   "source": [
    "x = np.random.normal(0, 1, 1000)\n",
    "\n",
    "import matplotlib.pyplot as plt\n",
    "\n",
    "plt.hist(x, bins=20)"
   ]
  }
 ],
 "metadata": {
  "kernelspec": {
   "display_name": "ip",
   "language": "python",
   "name": "python3"
  },
  "language_info": {
   "codemirror_mode": {
    "name": "ipython",
    "version": 3
   },
   "file_extension": ".py",
   "mimetype": "text/x-python",
   "name": "python",
   "nbconvert_exporter": "python",
   "pygments_lexer": "ipython3",
   "version": "3.10.16"
  }
 },
 "nbformat": 4,
 "nbformat_minor": 2
}
