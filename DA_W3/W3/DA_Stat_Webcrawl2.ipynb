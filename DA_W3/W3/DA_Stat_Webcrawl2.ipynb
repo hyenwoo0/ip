{
 "cells": [
  {
   "cell_type": "markdown",
   "metadata": {},
   "source": [
    "# 정적 웹 페이지 크롤링 실습"
   ]
  },
  {
   "cell_type": "markdown",
   "metadata": {},
   "source": [
    "## 1. 크롤링 허용 여부 확인"
   ]
  },
  {
   "cell_type": "markdown",
   "metadata": {},
   "source": [
    "- 크롤링할 사이트 주소/robots.txt 입력하여 정책 확인\n",
    "\n",
    "![robots crawling 정책](../resource/W3/robotstxt.org.png)\n",
    "\n",
    "### www.hollys.co.kr/robots.txt 검토결과\n",
    "\n",
    "User-agent: *\n",
    "\n",
    "Disallow: /membership\n",
    "\n",
    "Disallow: /myHollys"
   ]
  },
  {
   "cell_type": "markdown",
   "metadata": {},
   "source": [
    "## 2. 웹 페이지 분석하기"
   ]
  },
  {
   "cell_type": "markdown",
   "metadata": {},
   "source": [
    "(1) 대상 웹: www.hollys.co.kr\n",
    "\n",
    "        우측 하단의 전국 Store 검색\n",
    "\n",
    "(2) HTML 코드 확인하기\n",
    "\n",
    "        Ctrl + U: HTML로 열어보기\n",
    "        <tbody> ~ </tbody>: 매장 정보 테이블\n",
    "        <td>[0] 매장이 있는 지역\n",
    "        <td>[1] 매장명\n",
    "        <td>[3] 매장주소\n",
    "        <td>[5] 전화번호\n",
    "\n",
    "(3) 나머지 매장정보 확인하기\n",
    "\n",
    "        한 페이지는 10개 매장 정보\n",
    "        페이지 이동 -> 주소 url에 pageNo=2, 3, 4, ...\n",
    "        마지막 페이지 58"
   ]
  },
  {
   "cell_type": "markdown",
   "metadata": {},
   "source": [
    "## 3. 파이썬 셀 창에서 크롤링하기\n",
    "\n",
    "- 크롤링 작업을 단계적으로 수행하며 확인"
   ]
  },
  {
   "cell_type": "code",
   "execution_count": 1,
   "metadata": {},
   "outputs": [],
   "source": [
    "from bs4 import BeautifulSoup\n",
    "import urllib.request"
   ]
  },
  {
   "cell_type": "code",
   "execution_count": 2,
   "metadata": {},
   "outputs": [],
   "source": [
    "result = []"
   ]
  },
  {
   "cell_type": "markdown",
   "metadata": {},
   "source": [
    "(1) 1 ~ 58 페이지까지 반복해서 url 설정\n",
    "\n",
    "(2) url 요청하여 응답받은 웹 페이지 저장\n",
    "\n",
    "(3) BeautifulSoup 객체 생성\n",
    "\n",
    "(4) tr 태그 하위 td 태그 중에서 필요한 항목 추출하여 result 리스트에 저장\n",
    "\n",
    "tbody > tr > td"
   ]
  },
  {
   "cell_type": "code",
   "execution_count": 3,
   "metadata": {},
   "outputs": [
    {
     "name": "stdout",
     "output_type": "stream",
     "text": [
      "https://www.hollys.co.kr/store/korea/korStore2.do?pageNo=1&sido=&gugun=&store=\n",
      "https://www.hollys.co.kr/store/korea/korStore2.do?pageNo=2&sido=&gugun=&store=\n",
      "https://www.hollys.co.kr/store/korea/korStore2.do?pageNo=3&sido=&gugun=&store=\n",
      "https://www.hollys.co.kr/store/korea/korStore2.do?pageNo=4&sido=&gugun=&store=\n",
      "https://www.hollys.co.kr/store/korea/korStore2.do?pageNo=5&sido=&gugun=&store=\n",
      "https://www.hollys.co.kr/store/korea/korStore2.do?pageNo=6&sido=&gugun=&store=\n",
      "https://www.hollys.co.kr/store/korea/korStore2.do?pageNo=7&sido=&gugun=&store=\n",
      "https://www.hollys.co.kr/store/korea/korStore2.do?pageNo=8&sido=&gugun=&store=\n",
      "https://www.hollys.co.kr/store/korea/korStore2.do?pageNo=9&sido=&gugun=&store=\n",
      "https://www.hollys.co.kr/store/korea/korStore2.do?pageNo=10&sido=&gugun=&store=\n",
      "https://www.hollys.co.kr/store/korea/korStore2.do?pageNo=11&sido=&gugun=&store=\n",
      "https://www.hollys.co.kr/store/korea/korStore2.do?pageNo=12&sido=&gugun=&store=\n",
      "https://www.hollys.co.kr/store/korea/korStore2.do?pageNo=13&sido=&gugun=&store=\n",
      "https://www.hollys.co.kr/store/korea/korStore2.do?pageNo=14&sido=&gugun=&store=\n",
      "https://www.hollys.co.kr/store/korea/korStore2.do?pageNo=15&sido=&gugun=&store=\n",
      "https://www.hollys.co.kr/store/korea/korStore2.do?pageNo=16&sido=&gugun=&store=\n",
      "https://www.hollys.co.kr/store/korea/korStore2.do?pageNo=17&sido=&gugun=&store=\n",
      "https://www.hollys.co.kr/store/korea/korStore2.do?pageNo=18&sido=&gugun=&store=\n",
      "https://www.hollys.co.kr/store/korea/korStore2.do?pageNo=19&sido=&gugun=&store=\n",
      "https://www.hollys.co.kr/store/korea/korStore2.do?pageNo=20&sido=&gugun=&store=\n",
      "https://www.hollys.co.kr/store/korea/korStore2.do?pageNo=21&sido=&gugun=&store=\n",
      "https://www.hollys.co.kr/store/korea/korStore2.do?pageNo=22&sido=&gugun=&store=\n",
      "https://www.hollys.co.kr/store/korea/korStore2.do?pageNo=23&sido=&gugun=&store=\n",
      "https://www.hollys.co.kr/store/korea/korStore2.do?pageNo=24&sido=&gugun=&store=\n",
      "https://www.hollys.co.kr/store/korea/korStore2.do?pageNo=25&sido=&gugun=&store=\n",
      "https://www.hollys.co.kr/store/korea/korStore2.do?pageNo=26&sido=&gugun=&store=\n",
      "https://www.hollys.co.kr/store/korea/korStore2.do?pageNo=27&sido=&gugun=&store=\n",
      "https://www.hollys.co.kr/store/korea/korStore2.do?pageNo=28&sido=&gugun=&store=\n",
      "https://www.hollys.co.kr/store/korea/korStore2.do?pageNo=29&sido=&gugun=&store=\n",
      "https://www.hollys.co.kr/store/korea/korStore2.do?pageNo=30&sido=&gugun=&store=\n",
      "https://www.hollys.co.kr/store/korea/korStore2.do?pageNo=31&sido=&gugun=&store=\n",
      "https://www.hollys.co.kr/store/korea/korStore2.do?pageNo=32&sido=&gugun=&store=\n",
      "https://www.hollys.co.kr/store/korea/korStore2.do?pageNo=33&sido=&gugun=&store=\n",
      "https://www.hollys.co.kr/store/korea/korStore2.do?pageNo=34&sido=&gugun=&store=\n",
      "https://www.hollys.co.kr/store/korea/korStore2.do?pageNo=35&sido=&gugun=&store=\n",
      "https://www.hollys.co.kr/store/korea/korStore2.do?pageNo=36&sido=&gugun=&store=\n",
      "https://www.hollys.co.kr/store/korea/korStore2.do?pageNo=37&sido=&gugun=&store=\n",
      "https://www.hollys.co.kr/store/korea/korStore2.do?pageNo=38&sido=&gugun=&store=\n",
      "https://www.hollys.co.kr/store/korea/korStore2.do?pageNo=39&sido=&gugun=&store=\n",
      "https://www.hollys.co.kr/store/korea/korStore2.do?pageNo=40&sido=&gugun=&store=\n",
      "https://www.hollys.co.kr/store/korea/korStore2.do?pageNo=41&sido=&gugun=&store=\n",
      "https://www.hollys.co.kr/store/korea/korStore2.do?pageNo=42&sido=&gugun=&store=\n",
      "https://www.hollys.co.kr/store/korea/korStore2.do?pageNo=43&sido=&gugun=&store=\n",
      "https://www.hollys.co.kr/store/korea/korStore2.do?pageNo=44&sido=&gugun=&store=\n",
      "https://www.hollys.co.kr/store/korea/korStore2.do?pageNo=45&sido=&gugun=&store=\n",
      "https://www.hollys.co.kr/store/korea/korStore2.do?pageNo=46&sido=&gugun=&store=\n",
      "https://www.hollys.co.kr/store/korea/korStore2.do?pageNo=47&sido=&gugun=&store=\n",
      "https://www.hollys.co.kr/store/korea/korStore2.do?pageNo=48&sido=&gugun=&store=\n",
      "https://www.hollys.co.kr/store/korea/korStore2.do?pageNo=49&sido=&gugun=&store=\n",
      "https://www.hollys.co.kr/store/korea/korStore2.do?pageNo=50&sido=&gugun=&store=\n",
      "<tr class=\"noline\" style=\"height:100px;\">\n",
      "<td class=\"noline center_t\" colspan=\"6\">등록된 지점이 없습니다.</td>\n",
      "</tr>\n",
      "https://www.hollys.co.kr/store/korea/korStore2.do?pageNo=51&sido=&gugun=&store=\n",
      "<tr class=\"noline\" style=\"height:100px;\">\n",
      "<td class=\"noline center_t\" colspan=\"6\">등록된 지점이 없습니다.</td>\n",
      "</tr>\n",
      "https://www.hollys.co.kr/store/korea/korStore2.do?pageNo=52&sido=&gugun=&store=\n",
      "<tr class=\"noline\" style=\"height:100px;\">\n",
      "<td class=\"noline center_t\" colspan=\"6\">등록된 지점이 없습니다.</td>\n",
      "</tr>\n",
      "https://www.hollys.co.kr/store/korea/korStore2.do?pageNo=53&sido=&gugun=&store=\n",
      "<tr class=\"noline\" style=\"height:100px;\">\n",
      "<td class=\"noline center_t\" colspan=\"6\">등록된 지점이 없습니다.</td>\n",
      "</tr>\n",
      "https://www.hollys.co.kr/store/korea/korStore2.do?pageNo=54&sido=&gugun=&store=\n",
      "<tr class=\"noline\" style=\"height:100px;\">\n",
      "<td class=\"noline center_t\" colspan=\"6\">등록된 지점이 없습니다.</td>\n",
      "</tr>\n",
      "https://www.hollys.co.kr/store/korea/korStore2.do?pageNo=55&sido=&gugun=&store=\n",
      "<tr class=\"noline\" style=\"height:100px;\">\n",
      "<td class=\"noline center_t\" colspan=\"6\">등록된 지점이 없습니다.</td>\n",
      "</tr>\n",
      "https://www.hollys.co.kr/store/korea/korStore2.do?pageNo=56&sido=&gugun=&store=\n",
      "<tr class=\"noline\" style=\"height:100px;\">\n",
      "<td class=\"noline center_t\" colspan=\"6\">등록된 지점이 없습니다.</td>\n",
      "</tr>\n",
      "https://www.hollys.co.kr/store/korea/korStore2.do?pageNo=57&sido=&gugun=&store=\n",
      "<tr class=\"noline\" style=\"height:100px;\">\n",
      "<td class=\"noline center_t\" colspan=\"6\">등록된 지점이 없습니다.</td>\n",
      "</tr>\n",
      "https://www.hollys.co.kr/store/korea/korStore2.do?pageNo=58&sido=&gugun=&store=\n",
      "<tr class=\"noline\" style=\"height:100px;\">\n",
      "<td class=\"noline center_t\" colspan=\"6\">등록된 지점이 없습니다.</td>\n",
      "</tr>\n"
     ]
    }
   ],
   "source": [
    "for page in range(1, 59):\n",
    "    Hollys_url = 'https://www.hollys.co.kr/store/korea/korStore2.do?pageNo=%d&sido=&gugun=&store=' % page\n",
    "    print(Hollys_url)\n",
    "\n",
    "    html = urllib.request.urlopen(Hollys_url)\n",
    "    soupHollys = BeautifulSoup(html, 'html.parser')\n",
    "    tag_tbody = soupHollys.find('tbody')\n",
    "    for store in tag_tbody.find_all('tr'):\n",
    "        if len(store) <= 3:  # 마지막 tr인 경우 매장 정보가 없음 -> 크롤링 중단\n",
    "            print(store)\n",
    "            break\n",
    "\n",
    "        store_td = store.find_all('td')\n",
    "        store_name = store_td[1].string\n",
    "        store_sido = store_td[0].string\n",
    "        store_address = store_td[3].string\n",
    "        store_phone = store_td[5].string\n",
    "        result.append([store_name]+[store_sido]+[store_address]+[store_phone])"
   ]
  },
  {
   "cell_type": "markdown",
   "metadata": {},
   "source": [
    "(5) 크롤링된 결과의 확인"
   ]
  },
  {
   "cell_type": "code",
   "execution_count": 4,
   "metadata": {},
   "outputs": [
    {
     "data": {
      "text/plain": [
       "482"
      ]
     },
     "execution_count": 4,
     "metadata": {},
     "output_type": "execute_result"
    }
   ],
   "source": [
    "len(result)"
   ]
  },
  {
   "cell_type": "code",
   "execution_count": 6,
   "metadata": {},
   "outputs": [
    {
     "data": {
      "text/plain": [
       "['경상국립대학생회관점', '경남 진주시', '경상남도 진주시 진주대로 501 경상국립대 학생회관 1층', '055-772-0931']"
      ]
     },
     "execution_count": 6,
     "metadata": {},
     "output_type": "execute_result"
    }
   ],
   "source": [
    "result[0]"
   ]
  },
  {
   "cell_type": "code",
   "execution_count": 9,
   "metadata": {},
   "outputs": [
    {
     "data": {
      "text/plain": [
       "['신촌점', '서울 서대문구', '서울특별시 서대문구 연세로 34 (창천동 31-12)  할리스', '02-393-2004']"
      ]
     },
     "execution_count": 9,
     "metadata": {},
     "output_type": "execute_result"
    }
   ],
   "source": [
    "result[481]"
   ]
  },
  {
   "cell_type": "code",
   "execution_count": 10,
   "metadata": {},
   "outputs": [
    {
     "data": {
      "text/plain": [
       "[<td class=\"noline center_t\">서울 서대문구</td>,\n",
       " <td class=\"center_t\"><a href=\"#\" onclick=\"javascript:storeView(1); return false;\">신촌점</a></td>,\n",
       " <td class=\"center_t tdp0\">영업중</td>,\n",
       " <td class=\"center_t\"><a href=\"#\" onclick=\"javascript:storeView(1); return false;\">서울특별시 서대문구 연세로 34 (창천동 31-12)  할리스</a></td>,\n",
       " <td class=\"center_t\">\n",
       " </td>,\n",
       " <td class=\"center_t\">02-393-2004</td>]"
      ]
     },
     "execution_count": 10,
     "metadata": {},
     "output_type": "execute_result"
    }
   ],
   "source": [
    "store_td"
   ]
  },
  {
   "cell_type": "code",
   "execution_count": 11,
   "metadata": {},
   "outputs": [
    {
     "data": {
      "text/plain": [
       "'신촌점'"
      ]
     },
     "execution_count": 11,
     "metadata": {},
     "output_type": "execute_result"
    }
   ],
   "source": [
    "store_td[1].string"
   ]
  },
  {
   "cell_type": "code",
   "execution_count": 12,
   "metadata": {},
   "outputs": [
    {
     "data": {
      "text/plain": [
       "'서울 서대문구'"
      ]
     },
     "execution_count": 12,
     "metadata": {},
     "output_type": "execute_result"
    }
   ],
   "source": [
    "store_td[0].string"
   ]
  },
  {
   "cell_type": "code",
   "execution_count": 13,
   "metadata": {},
   "outputs": [
    {
     "data": {
      "text/plain": [
       "'서울특별시 서대문구 연세로 34 (창천동 31-12)  할리스'"
      ]
     },
     "execution_count": 13,
     "metadata": {},
     "output_type": "execute_result"
    }
   ],
   "source": [
    "store_td[3].string"
   ]
  },
  {
   "cell_type": "code",
   "execution_count": 14,
   "metadata": {},
   "outputs": [
    {
     "data": {
      "text/plain": [
       "'02-393-2004'"
      ]
     },
     "execution_count": 14,
     "metadata": {},
     "output_type": "execute_result"
    }
   ],
   "source": [
    "store_td[5].string"
   ]
  },
  {
   "cell_type": "markdown",
   "metadata": {},
   "source": [
    "(6) 크롤링한 데이터 저장하기\n",
    "\n",
    "- csv 파일 형태로 저장\n",
    "- row, column의 테이블 형식으로 저장"
   ]
  },
  {
   "cell_type": "code",
   "execution_count": 15,
   "metadata": {},
   "outputs": [],
   "source": [
    "import pandas as pd\n",
    "\n",
    "hollys_tbl = pd.DataFrame(result, columns = ('store', 'sido-gu', 'address', 'phone'))"
   ]
  },
  {
   "cell_type": "code",
   "execution_count": 16,
   "metadata": {},
   "outputs": [
    {
     "data": {
      "text/html": [
       "<div>\n",
       "<style scoped>\n",
       "    .dataframe tbody tr th:only-of-type {\n",
       "        vertical-align: middle;\n",
       "    }\n",
       "\n",
       "    .dataframe tbody tr th {\n",
       "        vertical-align: top;\n",
       "    }\n",
       "\n",
       "    .dataframe thead th {\n",
       "        text-align: right;\n",
       "    }\n",
       "</style>\n",
       "<table border=\"1\" class=\"dataframe\">\n",
       "  <thead>\n",
       "    <tr style=\"text-align: right;\">\n",
       "      <th></th>\n",
       "      <th>store</th>\n",
       "      <th>sido-gu</th>\n",
       "      <th>address</th>\n",
       "      <th>phone</th>\n",
       "    </tr>\n",
       "  </thead>\n",
       "  <tbody>\n",
       "    <tr>\n",
       "      <th>0</th>\n",
       "      <td>경상국립대학생회관점</td>\n",
       "      <td>경남 진주시</td>\n",
       "      <td>경상남도 진주시 진주대로 501 경상국립대 학생회관 1층</td>\n",
       "      <td>055-772-0931</td>\n",
       "    </tr>\n",
       "    <tr>\n",
       "      <th>1</th>\n",
       "      <td>서서울공원점2</td>\n",
       "      <td>서울 양천구</td>\n",
       "      <td>서울특별시 양천구 남부순환로58길 37 신월동 205-36</td>\n",
       "      <td>070-4277-6756</td>\n",
       "    </tr>\n",
       "    <tr>\n",
       "      <th>2</th>\n",
       "      <td>전북대 후생관점</td>\n",
       "      <td>전북 전주시 덕진구</td>\n",
       "      <td>전북특별자치도 전주시 덕진구 백제대로 567 후생관 1층</td>\n",
       "      <td>063-270-2174</td>\n",
       "    </tr>\n",
       "    <tr>\n",
       "      <th>3</th>\n",
       "      <td>전북대 진수당점</td>\n",
       "      <td>전북 전주시 덕진구</td>\n",
       "      <td>전북 전주시 덕진구 백제대로 567 (전북대 진수당 연구동 1층) .</td>\n",
       "      <td>063-270-4350</td>\n",
       "    </tr>\n",
       "    <tr>\n",
       "      <th>4</th>\n",
       "      <td>전북대 중도라운지점</td>\n",
       "      <td>전북 전주시 덕진구</td>\n",
       "      <td>전북 전주시 덕진구 백제대로 567 중앙도서관 1층</td>\n",
       "      <td>.</td>\n",
       "    </tr>\n",
       "  </tbody>\n",
       "</table>\n",
       "</div>"
      ],
      "text/plain": [
       "        store     sido-gu                                 address  \\\n",
       "0  경상국립대학생회관점      경남 진주시         경상남도 진주시 진주대로 501 경상국립대 학생회관 1층   \n",
       "1     서서울공원점2      서울 양천구        서울특별시 양천구 남부순환로58길 37 신월동 205-36   \n",
       "2    전북대 후생관점  전북 전주시 덕진구         전북특별자치도 전주시 덕진구 백제대로 567 후생관 1층   \n",
       "3    전북대 진수당점  전북 전주시 덕진구  전북 전주시 덕진구 백제대로 567 (전북대 진수당 연구동 1층) .   \n",
       "4  전북대 중도라운지점  전북 전주시 덕진구            전북 전주시 덕진구 백제대로 567 중앙도서관 1층   \n",
       "\n",
       "           phone  \n",
       "0   055-772-0931  \n",
       "1  070-4277-6756  \n",
       "2   063-270-2174  \n",
       "3   063-270-4350  \n",
       "4              .  "
      ]
     },
     "execution_count": 16,
     "metadata": {},
     "output_type": "execute_result"
    }
   ],
   "source": [
    "hollys_tbl.head()"
   ]
  },
  {
   "cell_type": "code",
   "execution_count": 17,
   "metadata": {},
   "outputs": [
    {
     "data": {
      "text/html": [
       "<div>\n",
       "<style scoped>\n",
       "    .dataframe tbody tr th:only-of-type {\n",
       "        vertical-align: middle;\n",
       "    }\n",
       "\n",
       "    .dataframe tbody tr th {\n",
       "        vertical-align: top;\n",
       "    }\n",
       "\n",
       "    .dataframe thead th {\n",
       "        text-align: right;\n",
       "    }\n",
       "</style>\n",
       "<table border=\"1\" class=\"dataframe\">\n",
       "  <thead>\n",
       "    <tr style=\"text-align: right;\">\n",
       "      <th></th>\n",
       "      <th>store</th>\n",
       "      <th>sido-gu</th>\n",
       "      <th>address</th>\n",
       "      <th>phone</th>\n",
       "    </tr>\n",
       "  </thead>\n",
       "  <tbody>\n",
       "    <tr>\n",
       "      <th>477</th>\n",
       "      <td>합정역점</td>\n",
       "      <td>서울 마포구</td>\n",
       "      <td>서울특별시 마포구 양화로 36 (합정동 374-1) 할리스</td>\n",
       "      <td>02-6204-1234</td>\n",
       "    </tr>\n",
       "    <tr>\n",
       "      <th>478</th>\n",
       "      <td>부산달맞이점</td>\n",
       "      <td>부산 해운대구</td>\n",
       "      <td>부산광역시 해운대구 달맞이길 199, 2~3층 (중동 1488-14) 할리스</td>\n",
       "      <td>051-731-3410</td>\n",
       "    </tr>\n",
       "    <tr>\n",
       "      <th>479</th>\n",
       "      <td>신림점</td>\n",
       "      <td>서울 관악구</td>\n",
       "      <td>서울특별시 관악구 신림로 353-1</td>\n",
       "      <td>02-877-0019</td>\n",
       "    </tr>\n",
       "    <tr>\n",
       "      <th>480</th>\n",
       "      <td>태평로점</td>\n",
       "      <td>서울 중구</td>\n",
       "      <td>서울특별시 중구 세종대로 64, 해남빌딩 1층 (태평로2가 70-5) 할리스.</td>\n",
       "      <td>02-755-7795</td>\n",
       "    </tr>\n",
       "    <tr>\n",
       "      <th>481</th>\n",
       "      <td>신촌점</td>\n",
       "      <td>서울 서대문구</td>\n",
       "      <td>서울특별시 서대문구 연세로 34 (창천동 31-12)  할리스</td>\n",
       "      <td>02-393-2004</td>\n",
       "    </tr>\n",
       "  </tbody>\n",
       "</table>\n",
       "</div>"
      ],
      "text/plain": [
       "      store  sido-gu                                      address  \\\n",
       "477    합정역점   서울 마포구             서울특별시 마포구 양화로 36 (합정동 374-1) 할리스   \n",
       "478  부산달맞이점  부산 해운대구   부산광역시 해운대구 달맞이길 199, 2~3층 (중동 1488-14) 할리스   \n",
       "479     신림점   서울 관악구                          서울특별시 관악구 신림로 353-1   \n",
       "480    태평로점    서울 중구  서울특별시 중구 세종대로 64, 해남빌딩 1층 (태평로2가 70-5) 할리스.   \n",
       "481     신촌점  서울 서대문구           서울특별시 서대문구 연세로 34 (창천동 31-12)  할리스   \n",
       "\n",
       "            phone  \n",
       "477  02-6204-1234  \n",
       "478  051-731-3410  \n",
       "479   02-877-0019  \n",
       "480   02-755-7795  \n",
       "481   02-393-2004  "
      ]
     },
     "execution_count": 17,
     "metadata": {},
     "output_type": "execute_result"
    }
   ],
   "source": [
    "hollys_tbl.tail()"
   ]
  },
  {
   "cell_type": "code",
   "execution_count": 18,
   "metadata": {},
   "outputs": [
    {
     "name": "stdout",
     "output_type": "stream",
     "text": [
      "<class 'pandas.core.frame.DataFrame'>\n",
      "RangeIndex: 482 entries, 0 to 481\n",
      "Data columns (total 4 columns):\n",
      " #   Column   Non-Null Count  Dtype \n",
      "---  ------   --------------  ----- \n",
      " 0   store    482 non-null    object\n",
      " 1   sido-gu  482 non-null    object\n",
      " 2   address  482 non-null    object\n",
      " 3   phone    481 non-null    object\n",
      "dtypes: object(4)\n",
      "memory usage: 15.2+ KB\n"
     ]
    }
   ],
   "source": [
    "hollys_tbl.info()"
   ]
  },
  {
   "cell_type": "code",
   "execution_count": 19,
   "metadata": {},
   "outputs": [
    {
     "data": {
      "text/html": [
       "<div>\n",
       "<style scoped>\n",
       "    .dataframe tbody tr th:only-of-type {\n",
       "        vertical-align: middle;\n",
       "    }\n",
       "\n",
       "    .dataframe tbody tr th {\n",
       "        vertical-align: top;\n",
       "    }\n",
       "\n",
       "    .dataframe thead th {\n",
       "        text-align: right;\n",
       "    }\n",
       "</style>\n",
       "<table border=\"1\" class=\"dataframe\">\n",
       "  <thead>\n",
       "    <tr style=\"text-align: right;\">\n",
       "      <th></th>\n",
       "      <th>store</th>\n",
       "      <th>sido-gu</th>\n",
       "      <th>address</th>\n",
       "      <th>phone</th>\n",
       "    </tr>\n",
       "  </thead>\n",
       "  <tbody>\n",
       "    <tr>\n",
       "      <th>count</th>\n",
       "      <td>482</td>\n",
       "      <td>482</td>\n",
       "      <td>482</td>\n",
       "      <td>481</td>\n",
       "    </tr>\n",
       "    <tr>\n",
       "      <th>unique</th>\n",
       "      <td>482</td>\n",
       "      <td>161</td>\n",
       "      <td>482</td>\n",
       "      <td>455</td>\n",
       "    </tr>\n",
       "    <tr>\n",
       "      <th>top</th>\n",
       "      <td>경상국립대학생회관점</td>\n",
       "      <td>서울 강남구</td>\n",
       "      <td>경상남도 진주시 진주대로 501 경상국립대 학생회관 1층</td>\n",
       "      <td>.</td>\n",
       "    </tr>\n",
       "    <tr>\n",
       "      <th>freq</th>\n",
       "      <td>1</td>\n",
       "      <td>15</td>\n",
       "      <td>1</td>\n",
       "      <td>21</td>\n",
       "    </tr>\n",
       "  </tbody>\n",
       "</table>\n",
       "</div>"
      ],
      "text/plain": [
       "             store sido-gu                          address phone\n",
       "count          482     482                              482   481\n",
       "unique         482     161                              482   455\n",
       "top     경상국립대학생회관점  서울 강남구  경상남도 진주시 진주대로 501 경상국립대 학생회관 1층     .\n",
       "freq             1      15                                1    21"
      ]
     },
     "execution_count": 19,
     "metadata": {},
     "output_type": "execute_result"
    }
   ],
   "source": [
    "hollys_tbl.describe()"
   ]
  },
  {
   "cell_type": "code",
   "execution_count": 24,
   "metadata": {},
   "outputs": [],
   "source": [
    "hollys_tbl.to_csv(\"../resource/W3/output/hollys_utf8.csv\", encoding='utf8', mode='w', index = True)\n",
    "hollys_tbl.to_csv(\"../resource/W3/output/hollys_cp949.csv\", encoding='cp949', mode='w', index = True)"
   ]
  }
 ],
 "metadata": {
  "kernelspec": {
   "display_name": "ip",
   "language": "python",
   "name": "python3"
  },
  "language_info": {
   "codemirror_mode": {
    "name": "ipython",
    "version": 3
   },
   "file_extension": ".py",
   "mimetype": "text/x-python",
   "name": "python",
   "nbconvert_exporter": "python",
   "pygments_lexer": "ipython3",
   "version": "3.10.16"
  }
 },
 "nbformat": 4,
 "nbformat_minor": 2
}
