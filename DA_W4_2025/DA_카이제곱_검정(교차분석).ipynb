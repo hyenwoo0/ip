{
  "cells": [
    {
      "cell_type": "markdown",
      "metadata": {
        "id": "iA5_yuXNe5jj"
      },
      "source": [
        "# 카이제곱 검정(교차분석)"
      ]
    },
    {
      "cell_type": "code",
      "execution_count": 3,
      "metadata": {
        "id": "b8FaKYsje5jl"
      },
      "outputs": [],
      "source": [
        "# 필요한 패키지 설치\n",
        "\n",
        "import scipy.stats\n",
        "from scipy.stats import chi2_contingency\n",
        "import pandas as pd\n",
        "import matplotlib.pyplot as plt"
      ]
    },
    {
      "cell_type": "code",
      "execution_count": 4,
      "metadata": {
        "colab": {
          "base_uri": "https://localhost:8080/"
        },
        "id": "Uir8NjtCfLRt",
        "outputId": "96137ebe-cf7b-4114-d03a-7b915b23d821"
      },
      "outputs": [],
      "source": [
        "# from google.colab import drive\n",
        "# drive.mount('/content/drive')"
      ]
    },
    {
      "cell_type": "code",
      "execution_count": 5,
      "metadata": {
        "colab": {
          "base_uri": "https://localhost:8080/",
          "height": 206
        },
        "id": "SkkyQEKEe5jm",
        "outputId": "52b11bf8-648b-483b-d57c-4c503a93dd0b"
      },
      "outputs": [
        {
          "data": {
            "text/html": [
              "<div>\n",
              "<style scoped>\n",
              "    .dataframe tbody tr th:only-of-type {\n",
              "        vertical-align: middle;\n",
              "    }\n",
              "\n",
              "    .dataframe tbody tr th {\n",
              "        vertical-align: top;\n",
              "    }\n",
              "\n",
              "    .dataframe thead th {\n",
              "        text-align: right;\n",
              "    }\n",
              "</style>\n",
              "<table border=\"1\" class=\"dataframe\">\n",
              "  <thead>\n",
              "    <tr style=\"text-align: right;\">\n",
              "      <th></th>\n",
              "      <th>sex</th>\n",
              "      <th>smoke</th>\n",
              "    </tr>\n",
              "  </thead>\n",
              "  <tbody>\n",
              "    <tr>\n",
              "      <th>0</th>\n",
              "      <td>male</td>\n",
              "      <td>Non-Smoker</td>\n",
              "    </tr>\n",
              "    <tr>\n",
              "      <th>1</th>\n",
              "      <td>male</td>\n",
              "      <td>Smoker</td>\n",
              "    </tr>\n",
              "    <tr>\n",
              "      <th>2</th>\n",
              "      <td>male</td>\n",
              "      <td>Non-Smoker</td>\n",
              "    </tr>\n",
              "    <tr>\n",
              "      <th>3</th>\n",
              "      <td>male</td>\n",
              "      <td>Smoker</td>\n",
              "    </tr>\n",
              "    <tr>\n",
              "      <th>4</th>\n",
              "      <td>male</td>\n",
              "      <td>Non-Smoker</td>\n",
              "    </tr>\n",
              "  </tbody>\n",
              "</table>\n",
              "</div>"
            ],
            "text/plain": [
              "    sex       smoke\n",
              "0  male  Non-Smoker\n",
              "1  male      Smoker\n",
              "2  male  Non-Smoker\n",
              "3  male      Smoker\n",
              "4  male  Non-Smoker"
            ]
          },
          "execution_count": 5,
          "metadata": {},
          "output_type": "execute_result"
        }
      ],
      "source": [
        "# 데이터 불러오기\n",
        "# https://www.kaggle.com/datasets/sewonghwang/smoker\n",
        "# df = pd.read_csv(\"../resource/W4/smoker.csv\") # MS Windows용 코드 (자신의 PC 경로에 맞게 수정하시오)\n",
        "df = pd.read_csv(\"/Users/johyeon-u/source/ip/DA_W4_2025/smoker.csv\") # Colab용 코드(자신의 구글 드라이브 경로에 맞게 수정하시오)\n",
        "\n",
        "# 데이터 샘플 확인\n",
        "df.head()"
      ]
    },
    {
      "cell_type": "code",
      "execution_count": null,
      "metadata": {
        "colab": {
          "base_uri": "https://localhost:8080/",
          "height": 241
        },
        "id": "Unsc0Kpoe5jm",
        "outputId": "845ea553-66b0-468a-9fcf-6de314624999"
      },
      "outputs": [
        {
          "data": {
            "text/plain": [
              "smoke       sex   \n",
              "Non-Smoker  female    50\n",
              "            male      40\n",
              "Smoker      female    12\n",
              "            male      29\n",
              "Name: smoke, dtype: int64"
            ]
          },
          "execution_count": 12,
          "metadata": {},
          "output_type": "execute_result"
        }
      ],
      "source": [
        "# 항목 별 집계\n",
        "\n",
        "df.groupby(['sex','smoke'])['smoke'].count()"
      ]
    },
    {
      "cell_type": "code",
      "execution_count": 13,
      "metadata": {
        "colab": {
          "base_uri": "https://localhost:8080/",
          "height": 143
        },
        "id": "sbe68z5ve5jm",
        "outputId": "ef0c2c5d-25c7-47cf-e4b8-017fa090f106"
      },
      "outputs": [
        {
          "data": {
            "text/html": [
              "<div>\n",
              "<style scoped>\n",
              "    .dataframe tbody tr th:only-of-type {\n",
              "        vertical-align: middle;\n",
              "    }\n",
              "\n",
              "    .dataframe tbody tr th {\n",
              "        vertical-align: top;\n",
              "    }\n",
              "\n",
              "    .dataframe thead th {\n",
              "        text-align: right;\n",
              "    }\n",
              "</style>\n",
              "<table border=\"1\" class=\"dataframe\">\n",
              "  <thead>\n",
              "    <tr style=\"text-align: right;\">\n",
              "      <th>smoke</th>\n",
              "      <th>Non-Smoker</th>\n",
              "      <th>Smoker</th>\n",
              "    </tr>\n",
              "    <tr>\n",
              "      <th>sex</th>\n",
              "      <th></th>\n",
              "      <th></th>\n",
              "    </tr>\n",
              "  </thead>\n",
              "  <tbody>\n",
              "    <tr>\n",
              "      <th>female</th>\n",
              "      <td>50</td>\n",
              "      <td>12</td>\n",
              "    </tr>\n",
              "    <tr>\n",
              "      <th>male</th>\n",
              "      <td>40</td>\n",
              "      <td>29</td>\n",
              "    </tr>\n",
              "  </tbody>\n",
              "</table>\n",
              "</div>"
            ],
            "text/plain": [
              "smoke   Non-Smoker  Smoker\n",
              "sex                       \n",
              "female          50      12\n",
              "male            40      29"
            ]
          },
          "execution_count": 13,
          "metadata": {},
          "output_type": "execute_result"
        }
      ],
      "source": [
        "# 카이제곱 검정용 데이터셋 가공\n",
        "\n",
        "crosstab = pd.crosstab(df.sex, df.smoke)\n",
        "crosstab"
      ]
    },
    {
      "cell_type": "code",
      "execution_count": 14,
      "metadata": {
        "colab": {
          "base_uri": "https://localhost:8080/",
          "height": 499
        },
        "id": "UoJ7IznPe5jn",
        "outputId": "e6ae1c59-bdf7-4446-bcf3-82e6c501262a"
      },
      "outputs": [
        {
          "data": {
            "image/png": "[encoded data removed]",
            "text/plain": [
              "<Figure size 1000x500 with 1 Axes>"
            ]
          },
          "metadata": {},
          "output_type": "display_data"
        }
      ],
      "source": [
        "# 성별 별 흡연자 수 시각화\n",
        "\n",
        "%matplotlib inline\n",
        "crosstab.plot(kind='bar', figsize=(10,5))\n",
        "plt.grid()"
      ]
    },
    {
      "cell_type": "code",
      "execution_count": 15,
      "metadata": {
        "colab": {
          "base_uri": "https://localhost:8080/"
        },
        "id": "ad6Qwr-ae5jn",
        "outputId": "c86de755-b9f0-4655-b184-d6c1bef0b539"
      },
      "outputs": [
        {
          "name": "stdout",
          "output_type": "stream",
          "text": [
            "Chi square: 7.8081404703715105\n",
            "P-value: 0.005201139711454792\n"
          ]
        }
      ],
      "source": [
        "# 카이제곱 검정\n",
        "\n",
        "chiresult = chi2_contingency(crosstab, correction=False)\n",
        "print(f'Chi square: {chiresult[0]}')\n",
        "print(f'P-value: {chiresult[1]}')"
      ]
    },
    {
      "cell_type": "code",
      "execution_count": 16,
      "metadata": {
        "colab": {
          "base_uri": "https://localhost:8080/"
        },
        "id": "6Km2nE2XgN90",
        "outputId": "19e06f2d-eeb1-4e46-81d7-35f55e400728"
      },
      "outputs": [
        {
          "name": "stdout",
          "output_type": "stream",
          "text": [
            "Chi2ContingencyResult(statistic=7.8081404703715105, pvalue=0.005201139711454792, dof=1, expected_freq=array([[42.59541985, 19.40458015],\n",
            "       [47.40458015, 21.59541985]]))\n"
          ]
        }
      ],
      "source": [
        "print(chiresult)"
      ]
    },
    {
      "cell_type": "markdown",
      "metadata": {
        "id": "szPPNXgre5jn"
      },
      "source": [
        "#### 카이제곱 검증 결과 해석\n",
        "\n",
        "- 유의수준 알파 = 0.05\n",
        "- P-value 0.0052 < 유의수준 0.05\n",
        "\n",
        "  ==> 대립가설 채택(귀무가설 기각)\n",
        "\n",
        "  ==> 성별이 흡연 여부와 상관성이 있다."
      ]
    }
  ],
  "metadata": {
    "colab": {
      "provenance": []
    },
    "kernelspec": {
      "display_name": "ip",
      "language": "python",
      "name": "python3"
    },
    "language_info": {
      "codemirror_mode": {
        "name": "ipython",
        "version": 3
      },
      "file_extension": ".py",
      "mimetype": "text/x-python",
      "name": "python",
      "nbconvert_exporter": "python",
      "pygments_lexer": "ipython3",
      "version": "3.10.13"
    }
  },
  "nbformat": 4,
  "nbformat_minor": 0
}
