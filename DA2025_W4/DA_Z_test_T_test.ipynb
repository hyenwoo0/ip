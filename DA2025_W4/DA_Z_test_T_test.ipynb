{
  "cells": [
    {
      "cell_type": "markdown",
      "metadata": {
        "id": "5HgYNTuwiQcX"
      },
      "source": [
        "# Z-test, t-test 검정\n",
        "\n",
        "- Z-test, t-test 검정 테스트의 전제 조건\n",
        "\n",
        "    - 데이터가 양적변수\n",
        "    - 데이터가 정규화 되어야 함\n",
        "    - 데이터가 등분산성 만족해야 함"
      ]
    },
    {
      "cell_type": "code",
      "source": [
        "from google.colab import drive\n",
        "drive.mount('/content/drive')"
      ],
      "metadata": {
        "colab": {
          "base_uri": "https://localhost:8080/"
        },
        "id": "MJdi_6zDiU6v",
        "outputId": "a84cf13f-7f5d-4ed9-99ae-6b0f4a65c81e"
      },
      "execution_count": 1,
      "outputs": [
        {
          "output_type": "stream",
          "name": "stdout",
          "text": [
            "Mounted at /content/drive\n"
          ]
        }
      ]
    },
    {
      "cell_type": "code",
      "execution_count": 17,
      "metadata": {
        "id": "CC3KVAEOiQcY"
      },
      "outputs": [],
      "source": [
        "# 필요한 패키지 설치\n",
        "\n",
        "from scipy.stats import shapiro\n",
        "from statsmodels.stats.weightstats import ztest as ztest\n",
        "import scipy.stats\n",
        "from scipy import stats\n",
        "from scipy.stats import ttest_rel, ttest_ind\n",
        "import pandas as pd\n",
        "import seaborn as sns\n",
        "import matplotlib.pyplot as plt\n",
        "\n",
        "plt.rcParams['figure.dpi'] = 150"
      ]
    },
    {
      "cell_type": "code",
      "execution_count": 3,
      "metadata": {
        "colab": {
          "base_uri": "https://localhost:8080/",
          "height": 206
        },
        "id": "5YfKHBBOiQcZ",
        "outputId": "75ebb99f-a361-415f-c206-d0ca775f7735"
      },
      "outputs": [
        {
          "output_type": "execute_result",
          "data": {
            "text/plain": [
              "   TypeA_before  TypeA_after  TypeB_before  TypeB_after  TypeC_before  \\\n",
              "0           277          264           265          268           267   \n",
              "1           269          261           264          267           264   \n",
              "2           263          267           269          272           283   \n",
              "3           266          272           274          277           287   \n",
              "4           262          258           261          264           275   \n",
              "\n",
              "   TypeC_after  \n",
              "0          268  \n",
              "1          269  \n",
              "2          283  \n",
              "3          266  \n",
              "4          266  "
            ],
            "text/html": [
              "\n",
              "  <div id=\"df-d99bc580-e496-4b27-b35c-d08912c50f71\" class=\"colab-df-container\">\n",
              "    <div>\n",
              "<style scoped>\n",
              "    .dataframe tbody tr th:only-of-type {\n",
              "        vertical-align: middle;\n",
              "    }\n",
              "\n",
              "    .dataframe tbody tr th {\n",
              "        vertical-align: top;\n",
              "    }\n",
              "\n",
              "    .dataframe thead th {\n",
              "        text-align: right;\n",
              "    }\n",
              "</style>\n",
              "<table border=\"1\" class=\"dataframe\">\n",
              "  <thead>\n",
              "    <tr style=\"text-align: right;\">\n",
              "      <th></th>\n",
              "      <th>TypeA_before</th>\n",
              "      <th>TypeA_after</th>\n",
              "      <th>TypeB_before</th>\n",
              "      <th>TypeB_after</th>\n",
              "      <th>TypeC_before</th>\n",
              "      <th>TypeC_after</th>\n",
              "    </tr>\n",
              "  </thead>\n",
              "  <tbody>\n",
              "    <tr>\n",
              "      <th>0</th>\n",
              "      <td>277</td>\n",
              "      <td>264</td>\n",
              "      <td>265</td>\n",
              "      <td>268</td>\n",
              "      <td>267</td>\n",
              "      <td>268</td>\n",
              "    </tr>\n",
              "    <tr>\n",
              "      <th>1</th>\n",
              "      <td>269</td>\n",
              "      <td>261</td>\n",
              "      <td>264</td>\n",
              "      <td>267</td>\n",
              "      <td>264</td>\n",
              "      <td>269</td>\n",
              "    </tr>\n",
              "    <tr>\n",
              "      <th>2</th>\n",
              "      <td>263</td>\n",
              "      <td>267</td>\n",
              "      <td>269</td>\n",
              "      <td>272</td>\n",
              "      <td>283</td>\n",
              "      <td>283</td>\n",
              "    </tr>\n",
              "    <tr>\n",
              "      <th>3</th>\n",
              "      <td>266</td>\n",
              "      <td>272</td>\n",
              "      <td>274</td>\n",
              "      <td>277</td>\n",
              "      <td>287</td>\n",
              "      <td>266</td>\n",
              "    </tr>\n",
              "    <tr>\n",
              "      <th>4</th>\n",
              "      <td>262</td>\n",
              "      <td>258</td>\n",
              "      <td>261</td>\n",
              "      <td>264</td>\n",
              "      <td>275</td>\n",
              "      <td>266</td>\n",
              "    </tr>\n",
              "  </tbody>\n",
              "</table>\n",
              "</div>\n",
              "    <div class=\"colab-df-buttons\">\n",
              "\n",
              "  <div class=\"colab-df-container\">\n",
              "    <button class=\"colab-df-convert\" onclick=\"convertToInteractive('df-d99bc580-e496-4b27-b35c-d08912c50f71')\"\n",
              "            title=\"Convert this dataframe to an interactive table.\"\n",
              "            style=\"display:none;\">\n",
              "\n",
              "  <svg xmlns=\"http://www.w3.org/2000/svg\" height=\"24px\" viewBox=\"0 -960 960 960\">\n",
              "    <path d=\"M120-120v-720h720v720H120Zm60-500h600v-160H180v160Zm220 220h160v-160H400v160Zm0 220h160v-160H400v160ZM180-400h160v-160H180v160Zm440 0h160v-160H620v160ZM180-180h160v-160H180v160Zm440 0h160v-160H620v160Z\"/>\n",
              "  </svg>\n",
              "    </button>\n",
              "\n",
              "  <style>\n",
              "    .colab-df-container {\n",
              "      display:flex;\n",
              "      gap: 12px;\n",
              "    }\n",
              "\n",
              "    .colab-df-convert {\n",
              "      background-color: #E8F0FE;\n",
              "      border: none;\n",
              "      border-radius: 50%;\n",
              "      cursor: pointer;\n",
              "      display: none;\n",
              "      fill: #1967D2;\n",
              "      height: 32px;\n",
              "      padding: 0 0 0 0;\n",
              "      width: 32px;\n",
              "    }\n",
              "\n",
              "    .colab-df-convert:hover {\n",
              "      background-color: #E2EBFA;\n",
              "      box-shadow: 0px 1px 2px rgba(60, 64, 67, 0.3), 0px 1px 3px 1px rgba(60, 64, 67, 0.15);\n",
              "      fill: #174EA6;\n",
              "    }\n",
              "\n",
              "    .colab-df-buttons div {\n",
              "      margin-bottom: 4px;\n",
              "    }\n",
              "\n",
              "    [theme=dark] .colab-df-convert {\n",
              "      background-color: #3B4455;\n",
              "      fill: #D2E3FC;\n",
              "    }\n",
              "\n",
              "    [theme=dark] .colab-df-convert:hover {\n",
              "      background-color: #434B5C;\n",
              "      box-shadow: 0px 1px 3px 1px rgba(0, 0, 0, 0.15);\n",
              "      filter: drop-shadow(0px 1px 2px rgba(0, 0, 0, 0.3));\n",
              "      fill: #FFFFFF;\n",
              "    }\n",
              "  </style>\n",
              "\n",
              "    <script>\n",
              "      const buttonEl =\n",
              "        document.querySelector('#df-d99bc580-e496-4b27-b35c-d08912c50f71 button.colab-df-convert');\n",
              "      buttonEl.style.display =\n",
              "        google.colab.kernel.accessAllowed ? 'block' : 'none';\n",
              "\n",
              "      async function convertToInteractive(key) {\n",
              "        const element = document.querySelector('#df-d99bc580-e496-4b27-b35c-d08912c50f71');\n",
              "        const dataTable =\n",
              "          await google.colab.kernel.invokeFunction('convertToInteractive',\n",
              "                                                    [key], {});\n",
              "        if (!dataTable) return;\n",
              "\n",
              "        const docLinkHtml = 'Like what you see? Visit the ' +\n",
              "          '<a target=\"_blank\" href=https://colab.research.google.com/notebooks/data_table.ipynb>data table notebook</a>'\n",
              "          + ' to learn more about interactive tables.';\n",
              "        element.innerHTML = '';\n",
              "        dataTable['output_type'] = 'display_data';\n",
              "        await google.colab.output.renderOutput(dataTable, element);\n",
              "        const docLink = document.createElement('div');\n",
              "        docLink.innerHTML = docLinkHtml;\n",
              "        element.appendChild(docLink);\n",
              "      }\n",
              "    </script>\n",
              "  </div>\n",
              "\n",
              "\n",
              "<div id=\"df-490b9abb-4ff4-42c5-85c8-3dc504cfbd21\">\n",
              "  <button class=\"colab-df-quickchart\" onclick=\"quickchart('df-490b9abb-4ff4-42c5-85c8-3dc504cfbd21')\"\n",
              "            title=\"Suggest charts\"\n",
              "            style=\"display:none;\">\n",
              "\n",
              "<svg xmlns=\"http://www.w3.org/2000/svg\" height=\"24px\"viewBox=\"0 0 24 24\"\n",
              "     width=\"24px\">\n",
              "    <g>\n",
              "        <path d=\"M19 3H5c-1.1 0-2 .9-2 2v14c0 1.1.9 2 2 2h14c1.1 0 2-.9 2-2V5c0-1.1-.9-2-2-2zM9 17H7v-7h2v7zm4 0h-2V7h2v10zm4 0h-2v-4h2v4z\"/>\n",
              "    </g>\n",
              "</svg>\n",
              "  </button>\n",
              "\n",
              "<style>\n",
              "  .colab-df-quickchart {\n",
              "      --bg-color: #E8F0FE;\n",
              "      --fill-color: #1967D2;\n",
              "      --hover-bg-color: #E2EBFA;\n",
              "      --hover-fill-color: #174EA6;\n",
              "      --disabled-fill-color: #AAA;\n",
              "      --disabled-bg-color: #DDD;\n",
              "  }\n",
              "\n",
              "  [theme=dark] .colab-df-quickchart {\n",
              "      --bg-color: #3B4455;\n",
              "      --fill-color: #D2E3FC;\n",
              "      --hover-bg-color: #434B5C;\n",
              "      --hover-fill-color: #FFFFFF;\n",
              "      --disabled-bg-color: #3B4455;\n",
              "      --disabled-fill-color: #666;\n",
              "  }\n",
              "\n",
              "  .colab-df-quickchart {\n",
              "    background-color: var(--bg-color);\n",
              "    border: none;\n",
              "    border-radius: 50%;\n",
              "    cursor: pointer;\n",
              "    display: none;\n",
              "    fill: var(--fill-color);\n",
              "    height: 32px;\n",
              "    padding: 0;\n",
              "    width: 32px;\n",
              "  }\n",
              "\n",
              "  .colab-df-quickchart:hover {\n",
              "    background-color: var(--hover-bg-color);\n",
              "    box-shadow: 0 1px 2px rgba(60, 64, 67, 0.3), 0 1px 3px 1px rgba(60, 64, 67, 0.15);\n",
              "    fill: var(--button-hover-fill-color);\n",
              "  }\n",
              "\n",
              "  .colab-df-quickchart-complete:disabled,\n",
              "  .colab-df-quickchart-complete:disabled:hover {\n",
              "    background-color: var(--disabled-bg-color);\n",
              "    fill: var(--disabled-fill-color);\n",
              "    box-shadow: none;\n",
              "  }\n",
              "\n",
              "  .colab-df-spinner {\n",
              "    border: 2px solid var(--fill-color);\n",
              "    border-color: transparent;\n",
              "    border-bottom-color: var(--fill-color);\n",
              "    animation:\n",
              "      spin 1s steps(1) infinite;\n",
              "  }\n",
              "\n",
              "  @keyframes spin {\n",
              "    0% {\n",
              "      border-color: transparent;\n",
              "      border-bottom-color: var(--fill-color);\n",
              "      border-left-color: var(--fill-color);\n",
              "    }\n",
              "    20% {\n",
              "      border-color: transparent;\n",
              "      border-left-color: var(--fill-color);\n",
              "      border-top-color: var(--fill-color);\n",
              "    }\n",
              "    30% {\n",
              "      border-color: transparent;\n",
              "      border-left-color: var(--fill-color);\n",
              "      border-top-color: var(--fill-color);\n",
              "      border-right-color: var(--fill-color);\n",
              "    }\n",
              "    40% {\n",
              "      border-color: transparent;\n",
              "      border-right-color: var(--fill-color);\n",
              "      border-top-color: var(--fill-color);\n",
              "    }\n",
              "    60% {\n",
              "      border-color: transparent;\n",
              "      border-right-color: var(--fill-color);\n",
              "    }\n",
              "    80% {\n",
              "      border-color: transparent;\n",
              "      border-right-color: var(--fill-color);\n",
              "      border-bottom-color: var(--fill-color);\n",
              "    }\n",
              "    90% {\n",
              "      border-color: transparent;\n",
              "      border-bottom-color: var(--fill-color);\n",
              "    }\n",
              "  }\n",
              "</style>\n",
              "\n",
              "  <script>\n",
              "    async function quickchart(key) {\n",
              "      const quickchartButtonEl =\n",
              "        document.querySelector('#' + key + ' button');\n",
              "      quickchartButtonEl.disabled = true;  // To prevent multiple clicks.\n",
              "      quickchartButtonEl.classList.add('colab-df-spinner');\n",
              "      try {\n",
              "        const charts = await google.colab.kernel.invokeFunction(\n",
              "            'suggestCharts', [key], {});\n",
              "      } catch (error) {\n",
              "        console.error('Error during call to suggestCharts:', error);\n",
              "      }\n",
              "      quickchartButtonEl.classList.remove('colab-df-spinner');\n",
              "      quickchartButtonEl.classList.add('colab-df-quickchart-complete');\n",
              "    }\n",
              "    (() => {\n",
              "      let quickchartButtonEl =\n",
              "        document.querySelector('#df-490b9abb-4ff4-42c5-85c8-3dc504cfbd21 button');\n",
              "      quickchartButtonEl.style.display =\n",
              "        google.colab.kernel.accessAllowed ? 'block' : 'none';\n",
              "    })();\n",
              "  </script>\n",
              "</div>\n",
              "\n",
              "    </div>\n",
              "  </div>\n"
            ],
            "application/vnd.google.colaboratory.intrinsic+json": {
              "type": "dataframe",
              "variable_name": "df",
              "summary": "{\n  \"name\": \"df\",\n  \"rows\": 50,\n  \"fields\": [\n    {\n      \"column\": \"TypeA_before\",\n      \"properties\": {\n        \"dtype\": \"number\",\n        \"std\": 9,\n        \"min\": 250,\n        \"max\": 289,\n        \"num_unique_values\": 27,\n        \"samples\": [\n          264,\n          250,\n          274\n        ],\n        \"semantic_type\": \"\",\n        \"description\": \"\"\n      }\n    },\n    {\n      \"column\": \"TypeA_after\",\n      \"properties\": {\n        \"dtype\": \"number\",\n        \"std\": 8,\n        \"min\": 255,\n        \"max\": 289,\n        \"num_unique_values\": 26,\n        \"samples\": [\n          270,\n          280,\n          264\n        ],\n        \"semantic_type\": \"\",\n        \"description\": \"\"\n      }\n    },\n    {\n      \"column\": \"TypeB_before\",\n      \"properties\": {\n        \"dtype\": \"number\",\n        \"std\": 8,\n        \"min\": 258,\n        \"max\": 292,\n        \"num_unique_values\": 29,\n        \"samples\": [\n          282,\n          273,\n          263\n        ],\n        \"semantic_type\": \"\",\n        \"description\": \"\"\n      }\n    },\n    {\n      \"column\": \"TypeB_after\",\n      \"properties\": {\n        \"dtype\": \"number\",\n        \"std\": 8,\n        \"min\": 261,\n        \"max\": 295,\n        \"num_unique_values\": 27,\n        \"samples\": [\n          275,\n          261,\n          269\n        ],\n        \"semantic_type\": \"\",\n        \"description\": \"\"\n      }\n    },\n    {\n      \"column\": \"TypeC_before\",\n      \"properties\": {\n        \"dtype\": \"number\",\n        \"std\": 8,\n        \"min\": 255,\n        \"max\": 289,\n        \"num_unique_values\": 23,\n        \"samples\": [\n          261,\n          281,\n          267\n        ],\n        \"semantic_type\": \"\",\n        \"description\": \"\"\n      }\n    },\n    {\n      \"column\": \"TypeC_after\",\n      \"properties\": {\n        \"dtype\": \"number\",\n        \"std\": 9,\n        \"min\": 253,\n        \"max\": 291,\n        \"num_unique_values\": 21,\n        \"samples\": [\n          268,\n          281,\n          270\n        ],\n        \"semantic_type\": \"\",\n        \"description\": \"\"\n      }\n    }\n  ]\n}"
            }
          },
          "metadata": {},
          "execution_count": 3
        }
      ],
      "source": [
        "# 데이터 불러오기\n",
        "# https://www.kaggle.com/datasets/sewonghwang/golf-ball-testing\n",
        "# df = pd.read_csv(\"../resource/W4/Golf_test.csv\") # MS Windows 용 코드 (각자 PC 위치에 맞게 수정하시오)\n",
        "df = pd.read_csv(\"/content/drive/MyDrive/DA2025_W4/Golf_test.csv\") # Colab 용 코드 (각자 Google drive 위치에 맞게 수정하시오)\n",
        "\n",
        "# 데이터 샘플 확인\n",
        "df.head()"
      ]
    },
    {
      "cell_type": "code",
      "execution_count": 4,
      "metadata": {
        "colab": {
          "base_uri": "https://localhost:8080/",
          "height": 300
        },
        "id": "tnyLgqUIiQcZ",
        "outputId": "387e1a82-ae90-4eeb-a21b-dbff0ca79430"
      },
      "outputs": [
        {
          "output_type": "execute_result",
          "data": {
            "text/plain": [
              "       TypeA_before  TypeA_after  TypeB_before  TypeB_after  TypeC_before  \\\n",
              "count     50.000000    50.000000     50.000000    50.000000     50.000000   \n",
              "mean     268.460000   270.720000    273.600000   276.100000    270.360000   \n",
              "std        9.817124     8.487782      8.566665     8.493094      8.385507   \n",
              "min      250.000000   255.000000    258.000000   261.000000    255.000000   \n",
              "25%      262.000000   264.000000    266.250000   269.000000    263.250000   \n",
              "50%      266.000000   271.000000    273.500000   276.500000    268.500000   \n",
              "75%      275.750000   275.000000    278.000000   280.000000    275.750000   \n",
              "max      289.000000   289.000000    292.000000   295.000000    289.000000   \n",
              "\n",
              "       TypeC_after  \n",
              "count    50.000000  \n",
              "mean    271.040000  \n",
              "std       9.437139  \n",
              "min     253.000000  \n",
              "25%     265.000000  \n",
              "50%     268.000000  \n",
              "75%     277.750000  \n",
              "max     291.000000  "
            ],
            "text/html": [
              "\n",
              "  <div id=\"df-f687090e-4224-49d8-93de-c962223281d5\" class=\"colab-df-container\">\n",
              "    <div>\n",
              "<style scoped>\n",
              "    .dataframe tbody tr th:only-of-type {\n",
              "        vertical-align: middle;\n",
              "    }\n",
              "\n",
              "    .dataframe tbody tr th {\n",
              "        vertical-align: top;\n",
              "    }\n",
              "\n",
              "    .dataframe thead th {\n",
              "        text-align: right;\n",
              "    }\n",
              "</style>\n",
              "<table border=\"1\" class=\"dataframe\">\n",
              "  <thead>\n",
              "    <tr style=\"text-align: right;\">\n",
              "      <th></th>\n",
              "      <th>TypeA_before</th>\n",
              "      <th>TypeA_after</th>\n",
              "      <th>TypeB_before</th>\n",
              "      <th>TypeB_after</th>\n",
              "      <th>TypeC_before</th>\n",
              "      <th>TypeC_after</th>\n",
              "    </tr>\n",
              "  </thead>\n",
              "  <tbody>\n",
              "    <tr>\n",
              "      <th>count</th>\n",
              "      <td>50.000000</td>\n",
              "      <td>50.000000</td>\n",
              "      <td>50.000000</td>\n",
              "      <td>50.000000</td>\n",
              "      <td>50.000000</td>\n",
              "      <td>50.000000</td>\n",
              "    </tr>\n",
              "    <tr>\n",
              "      <th>mean</th>\n",
              "      <td>268.460000</td>\n",
              "      <td>270.720000</td>\n",
              "      <td>273.600000</td>\n",
              "      <td>276.100000</td>\n",
              "      <td>270.360000</td>\n",
              "      <td>271.040000</td>\n",
              "    </tr>\n",
              "    <tr>\n",
              "      <th>std</th>\n",
              "      <td>9.817124</td>\n",
              "      <td>8.487782</td>\n",
              "      <td>8.566665</td>\n",
              "      <td>8.493094</td>\n",
              "      <td>8.385507</td>\n",
              "      <td>9.437139</td>\n",
              "    </tr>\n",
              "    <tr>\n",
              "      <th>min</th>\n",
              "      <td>250.000000</td>\n",
              "      <td>255.000000</td>\n",
              "      <td>258.000000</td>\n",
              "      <td>261.000000</td>\n",
              "      <td>255.000000</td>\n",
              "      <td>253.000000</td>\n",
              "    </tr>\n",
              "    <tr>\n",
              "      <th>25%</th>\n",
              "      <td>262.000000</td>\n",
              "      <td>264.000000</td>\n",
              "      <td>266.250000</td>\n",
              "      <td>269.000000</td>\n",
              "      <td>263.250000</td>\n",
              "      <td>265.000000</td>\n",
              "    </tr>\n",
              "    <tr>\n",
              "      <th>50%</th>\n",
              "      <td>266.000000</td>\n",
              "      <td>271.000000</td>\n",
              "      <td>273.500000</td>\n",
              "      <td>276.500000</td>\n",
              "      <td>268.500000</td>\n",
              "      <td>268.000000</td>\n",
              "    </tr>\n",
              "    <tr>\n",
              "      <th>75%</th>\n",
              "      <td>275.750000</td>\n",
              "      <td>275.000000</td>\n",
              "      <td>278.000000</td>\n",
              "      <td>280.000000</td>\n",
              "      <td>275.750000</td>\n",
              "      <td>277.750000</td>\n",
              "    </tr>\n",
              "    <tr>\n",
              "      <th>max</th>\n",
              "      <td>289.000000</td>\n",
              "      <td>289.000000</td>\n",
              "      <td>292.000000</td>\n",
              "      <td>295.000000</td>\n",
              "      <td>289.000000</td>\n",
              "      <td>291.000000</td>\n",
              "    </tr>\n",
              "  </tbody>\n",
              "</table>\n",
              "</div>\n",
              "    <div class=\"colab-df-buttons\">\n",
              "\n",
              "  <div class=\"colab-df-container\">\n",
              "    <button class=\"colab-df-convert\" onclick=\"convertToInteractive('df-f687090e-4224-49d8-93de-c962223281d5')\"\n",
              "            title=\"Convert this dataframe to an interactive table.\"\n",
              "            style=\"display:none;\">\n",
              "\n",
              "  <svg xmlns=\"http://www.w3.org/2000/svg\" height=\"24px\" viewBox=\"0 -960 960 960\">\n",
              "    <path d=\"M120-120v-720h720v720H120Zm60-500h600v-160H180v160Zm220 220h160v-160H400v160Zm0 220h160v-160H400v160ZM180-400h160v-160H180v160Zm440 0h160v-160H620v160ZM180-180h160v-160H180v160Zm440 0h160v-160H620v160Z\"/>\n",
              "  </svg>\n",
              "    </button>\n",
              "\n",
              "  <style>\n",
              "    .colab-df-container {\n",
              "      display:flex;\n",
              "      gap: 12px;\n",
              "    }\n",
              "\n",
              "    .colab-df-convert {\n",
              "      background-color: #E8F0FE;\n",
              "      border: none;\n",
              "      border-radius: 50%;\n",
              "      cursor: pointer;\n",
              "      display: none;\n",
              "      fill: #1967D2;\n",
              "      height: 32px;\n",
              "      padding: 0 0 0 0;\n",
              "      width: 32px;\n",
              "    }\n",
              "\n",
              "    .colab-df-convert:hover {\n",
              "      background-color: #E2EBFA;\n",
              "      box-shadow: 0px 1px 2px rgba(60, 64, 67, 0.3), 0px 1px 3px 1px rgba(60, 64, 67, 0.15);\n",
              "      fill: #174EA6;\n",
              "    }\n",
              "\n",
              "    .colab-df-buttons div {\n",
              "      margin-bottom: 4px;\n",
              "    }\n",
              "\n",
              "    [theme=dark] .colab-df-convert {\n",
              "      background-color: #3B4455;\n",
              "      fill: #D2E3FC;\n",
              "    }\n",
              "\n",
              "    [theme=dark] .colab-df-convert:hover {\n",
              "      background-color: #434B5C;\n",
              "      box-shadow: 0px 1px 3px 1px rgba(0, 0, 0, 0.15);\n",
              "      filter: drop-shadow(0px 1px 2px rgba(0, 0, 0, 0.3));\n",
              "      fill: #FFFFFF;\n",
              "    }\n",
              "  </style>\n",
              "\n",
              "    <script>\n",
              "      const buttonEl =\n",
              "        document.querySelector('#df-f687090e-4224-49d8-93de-c962223281d5 button.colab-df-convert');\n",
              "      buttonEl.style.display =\n",
              "        google.colab.kernel.accessAllowed ? 'block' : 'none';\n",
              "\n",
              "      async function convertToInteractive(key) {\n",
              "        const element = document.querySelector('#df-f687090e-4224-49d8-93de-c962223281d5');\n",
              "        const dataTable =\n",
              "          await google.colab.kernel.invokeFunction('convertToInteractive',\n",
              "                                                    [key], {});\n",
              "        if (!dataTable) return;\n",
              "\n",
              "        const docLinkHtml = 'Like what you see? Visit the ' +\n",
              "          '<a target=\"_blank\" href=https://colab.research.google.com/notebooks/data_table.ipynb>data table notebook</a>'\n",
              "          + ' to learn more about interactive tables.';\n",
              "        element.innerHTML = '';\n",
              "        dataTable['output_type'] = 'display_data';\n",
              "        await google.colab.output.renderOutput(dataTable, element);\n",
              "        const docLink = document.createElement('div');\n",
              "        docLink.innerHTML = docLinkHtml;\n",
              "        element.appendChild(docLink);\n",
              "      }\n",
              "    </script>\n",
              "  </div>\n",
              "\n",
              "\n",
              "<div id=\"df-c1c21ebe-1d37-4f8a-a64a-4c175e1c689c\">\n",
              "  <button class=\"colab-df-quickchart\" onclick=\"quickchart('df-c1c21ebe-1d37-4f8a-a64a-4c175e1c689c')\"\n",
              "            title=\"Suggest charts\"\n",
              "            style=\"display:none;\">\n",
              "\n",
              "<svg xmlns=\"http://www.w3.org/2000/svg\" height=\"24px\"viewBox=\"0 0 24 24\"\n",
              "     width=\"24px\">\n",
              "    <g>\n",
              "        <path d=\"M19 3H5c-1.1 0-2 .9-2 2v14c0 1.1.9 2 2 2h14c1.1 0 2-.9 2-2V5c0-1.1-.9-2-2-2zM9 17H7v-7h2v7zm4 0h-2V7h2v10zm4 0h-2v-4h2v4z\"/>\n",
              "    </g>\n",
              "</svg>\n",
              "  </button>\n",
              "\n",
              "<style>\n",
              "  .colab-df-quickchart {\n",
              "      --bg-color: #E8F0FE;\n",
              "      --fill-color: #1967D2;\n",
              "      --hover-bg-color: #E2EBFA;\n",
              "      --hover-fill-color: #174EA6;\n",
              "      --disabled-fill-color: #AAA;\n",
              "      --disabled-bg-color: #DDD;\n",
              "  }\n",
              "\n",
              "  [theme=dark] .colab-df-quickchart {\n",
              "      --bg-color: #3B4455;\n",
              "      --fill-color: #D2E3FC;\n",
              "      --hover-bg-color: #434B5C;\n",
              "      --hover-fill-color: #FFFFFF;\n",
              "      --disabled-bg-color: #3B4455;\n",
              "      --disabled-fill-color: #666;\n",
              "  }\n",
              "\n",
              "  .colab-df-quickchart {\n",
              "    background-color: var(--bg-color);\n",
              "    border: none;\n",
              "    border-radius: 50%;\n",
              "    cursor: pointer;\n",
              "    display: none;\n",
              "    fill: var(--fill-color);\n",
              "    height: 32px;\n",
              "    padding: 0;\n",
              "    width: 32px;\n",
              "  }\n",
              "\n",
              "  .colab-df-quickchart:hover {\n",
              "    background-color: var(--hover-bg-color);\n",
              "    box-shadow: 0 1px 2px rgba(60, 64, 67, 0.3), 0 1px 3px 1px rgba(60, 64, 67, 0.15);\n",
              "    fill: var(--button-hover-fill-color);\n",
              "  }\n",
              "\n",
              "  .colab-df-quickchart-complete:disabled,\n",
              "  .colab-df-quickchart-complete:disabled:hover {\n",
              "    background-color: var(--disabled-bg-color);\n",
              "    fill: var(--disabled-fill-color);\n",
              "    box-shadow: none;\n",
              "  }\n",
              "\n",
              "  .colab-df-spinner {\n",
              "    border: 2px solid var(--fill-color);\n",
              "    border-color: transparent;\n",
              "    border-bottom-color: var(--fill-color);\n",
              "    animation:\n",
              "      spin 1s steps(1) infinite;\n",
              "  }\n",
              "\n",
              "  @keyframes spin {\n",
              "    0% {\n",
              "      border-color: transparent;\n",
              "      border-bottom-color: var(--fill-color);\n",
              "      border-left-color: var(--fill-color);\n",
              "    }\n",
              "    20% {\n",
              "      border-color: transparent;\n",
              "      border-left-color: var(--fill-color);\n",
              "      border-top-color: var(--fill-color);\n",
              "    }\n",
              "    30% {\n",
              "      border-color: transparent;\n",
              "      border-left-color: var(--fill-color);\n",
              "      border-top-color: var(--fill-color);\n",
              "      border-right-color: var(--fill-color);\n",
              "    }\n",
              "    40% {\n",
              "      border-color: transparent;\n",
              "      border-right-color: var(--fill-color);\n",
              "      border-top-color: var(--fill-color);\n",
              "    }\n",
              "    60% {\n",
              "      border-color: transparent;\n",
              "      border-right-color: var(--fill-color);\n",
              "    }\n",
              "    80% {\n",
              "      border-color: transparent;\n",
              "      border-right-color: var(--fill-color);\n",
              "      border-bottom-color: var(--fill-color);\n",
              "    }\n",
              "    90% {\n",
              "      border-color: transparent;\n",
              "      border-bottom-color: var(--fill-color);\n",
              "    }\n",
              "  }\n",
              "</style>\n",
              "\n",
              "  <script>\n",
              "    async function quickchart(key) {\n",
              "      const quickchartButtonEl =\n",
              "        document.querySelector('#' + key + ' button');\n",
              "      quickchartButtonEl.disabled = true;  // To prevent multiple clicks.\n",
              "      quickchartButtonEl.classList.add('colab-df-spinner');\n",
              "      try {\n",
              "        const charts = await google.colab.kernel.invokeFunction(\n",
              "            'suggestCharts', [key], {});\n",
              "      } catch (error) {\n",
              "        console.error('Error during call to suggestCharts:', error);\n",
              "      }\n",
              "      quickchartButtonEl.classList.remove('colab-df-spinner');\n",
              "      quickchartButtonEl.classList.add('colab-df-quickchart-complete');\n",
              "    }\n",
              "    (() => {\n",
              "      let quickchartButtonEl =\n",
              "        document.querySelector('#df-c1c21ebe-1d37-4f8a-a64a-4c175e1c689c button');\n",
              "      quickchartButtonEl.style.display =\n",
              "        google.colab.kernel.accessAllowed ? 'block' : 'none';\n",
              "    })();\n",
              "  </script>\n",
              "</div>\n",
              "\n",
              "    </div>\n",
              "  </div>\n"
            ],
            "application/vnd.google.colaboratory.intrinsic+json": {
              "type": "dataframe",
              "summary": "{\n  \"name\": \"df\",\n  \"rows\": 8,\n  \"fields\": [\n    {\n      \"column\": \"TypeA_before\",\n      \"properties\": {\n        \"dtype\": \"number\",\n        \"std\": 111.53779243403547,\n        \"min\": 9.817123731895558,\n        \"max\": 289.0,\n        \"num_unique_values\": 8,\n        \"samples\": [\n          268.46,\n          266.0,\n          50.0\n        ],\n        \"semantic_type\": \"\",\n        \"description\": \"\"\n      }\n    },\n    {\n      \"column\": \"TypeA_after\",\n      \"properties\": {\n        \"dtype\": \"number\",\n        \"std\": 112.77082071586759,\n        \"min\": 8.487782335780752,\n        \"max\": 289.0,\n        \"num_unique_values\": 8,\n        \"samples\": [\n          270.72,\n          271.0,\n          50.0\n        ],\n        \"semantic_type\": \"\",\n        \"description\": \"\"\n      }\n    },\n    {\n      \"column\": \"TypeB_before\",\n      \"properties\": {\n        \"dtype\": \"number\",\n        \"std\": 114.02949281164528,\n        \"min\": 8.566665343179972,\n        \"max\": 292.0,\n        \"num_unique_values\": 8,\n        \"samples\": [\n          273.6,\n          273.5,\n          50.0\n        ],\n        \"semantic_type\": \"\",\n        \"description\": \"\"\n      }\n    },\n    {\n      \"column\": \"TypeB_after\",\n      \"properties\": {\n        \"dtype\": \"number\",\n        \"std\": 115.28886333135124,\n        \"min\": 8.493094433787048,\n        \"max\": 295.0,\n        \"num_unique_values\": 8,\n        \"samples\": [\n          276.1,\n          276.5,\n          50.0\n        ],\n        \"semantic_type\": \"\",\n        \"description\": \"\"\n      }\n    },\n    {\n      \"column\": \"TypeC_before\",\n      \"properties\": {\n        \"dtype\": \"number\",\n        \"std\": 112.5919311267667,\n        \"min\": 8.385507420179032,\n        \"max\": 289.0,\n        \"num_unique_values\": 8,\n        \"samples\": [\n          270.36,\n          268.5,\n          50.0\n        ],\n        \"semantic_type\": \"\",\n        \"description\": \"\"\n      }\n    },\n    {\n      \"column\": \"TypeC_after\",\n      \"properties\": {\n        \"dtype\": \"number\",\n        \"std\": 112.71771945502692,\n        \"min\": 9.437138964576853,\n        \"max\": 291.0,\n        \"num_unique_values\": 8,\n        \"samples\": [\n          271.04,\n          268.0,\n          50.0\n        ],\n        \"semantic_type\": \"\",\n        \"description\": \"\"\n      }\n    }\n  ]\n}"
            }
          },
          "metadata": {},
          "execution_count": 4
        }
      ],
      "source": [
        "# 골프공 타입 별 통계값 확인\n",
        "\n",
        "df.describe()"
      ]
    },
    {
      "cell_type": "code",
      "execution_count": 5,
      "metadata": {
        "colab": {
          "base_uri": "https://localhost:8080/",
          "height": 424
        },
        "id": "BZGSlFGsiQca",
        "outputId": "46d0f153-5284-44d9-f929-7f98b70f4cf4"
      },
      "outputs": [
        {
          "output_type": "execute_result",
          "data": {
            "text/plain": [
              "         variable  value\n",
              "0    TypeA_before    277\n",
              "1    TypeA_before    269\n",
              "2    TypeA_before    263\n",
              "3    TypeA_before    266\n",
              "4    TypeA_before    262\n",
              "..            ...    ...\n",
              "295   TypeC_after    266\n",
              "296   TypeC_after    257\n",
              "297   TypeC_after    291\n",
              "298   TypeC_after    267\n",
              "299   TypeC_after    283\n",
              "\n",
              "[300 rows x 2 columns]"
            ],
            "text/html": [
              "\n",
              "  <div id=\"df-563d4884-fece-4a05-b436-d8c48b5c3221\" class=\"colab-df-container\">\n",
              "    <div>\n",
              "<style scoped>\n",
              "    .dataframe tbody tr th:only-of-type {\n",
              "        vertical-align: middle;\n",
              "    }\n",
              "\n",
              "    .dataframe tbody tr th {\n",
              "        vertical-align: top;\n",
              "    }\n",
              "\n",
              "    .dataframe thead th {\n",
              "        text-align: right;\n",
              "    }\n",
              "</style>\n",
              "<table border=\"1\" class=\"dataframe\">\n",
              "  <thead>\n",
              "    <tr style=\"text-align: right;\">\n",
              "      <th></th>\n",
              "      <th>variable</th>\n",
              "      <th>value</th>\n",
              "    </tr>\n",
              "  </thead>\n",
              "  <tbody>\n",
              "    <tr>\n",
              "      <th>0</th>\n",
              "      <td>TypeA_before</td>\n",
              "      <td>277</td>\n",
              "    </tr>\n",
              "    <tr>\n",
              "      <th>1</th>\n",
              "      <td>TypeA_before</td>\n",
              "      <td>269</td>\n",
              "    </tr>\n",
              "    <tr>\n",
              "      <th>2</th>\n",
              "      <td>TypeA_before</td>\n",
              "      <td>263</td>\n",
              "    </tr>\n",
              "    <tr>\n",
              "      <th>3</th>\n",
              "      <td>TypeA_before</td>\n",
              "      <td>266</td>\n",
              "    </tr>\n",
              "    <tr>\n",
              "      <th>4</th>\n",
              "      <td>TypeA_before</td>\n",
              "      <td>262</td>\n",
              "    </tr>\n",
              "    <tr>\n",
              "      <th>...</th>\n",
              "      <td>...</td>\n",
              "      <td>...</td>\n",
              "    </tr>\n",
              "    <tr>\n",
              "      <th>295</th>\n",
              "      <td>TypeC_after</td>\n",
              "      <td>266</td>\n",
              "    </tr>\n",
              "    <tr>\n",
              "      <th>296</th>\n",
              "      <td>TypeC_after</td>\n",
              "      <td>257</td>\n",
              "    </tr>\n",
              "    <tr>\n",
              "      <th>297</th>\n",
              "      <td>TypeC_after</td>\n",
              "      <td>291</td>\n",
              "    </tr>\n",
              "    <tr>\n",
              "      <th>298</th>\n",
              "      <td>TypeC_after</td>\n",
              "      <td>267</td>\n",
              "    </tr>\n",
              "    <tr>\n",
              "      <th>299</th>\n",
              "      <td>TypeC_after</td>\n",
              "      <td>283</td>\n",
              "    </tr>\n",
              "  </tbody>\n",
              "</table>\n",
              "<p>300 rows × 2 columns</p>\n",
              "</div>\n",
              "    <div class=\"colab-df-buttons\">\n",
              "\n",
              "  <div class=\"colab-df-container\">\n",
              "    <button class=\"colab-df-convert\" onclick=\"convertToInteractive('df-563d4884-fece-4a05-b436-d8c48b5c3221')\"\n",
              "            title=\"Convert this dataframe to an interactive table.\"\n",
              "            style=\"display:none;\">\n",
              "\n",
              "  <svg xmlns=\"http://www.w3.org/2000/svg\" height=\"24px\" viewBox=\"0 -960 960 960\">\n",
              "    <path d=\"M120-120v-720h720v720H120Zm60-500h600v-160H180v160Zm220 220h160v-160H400v160Zm0 220h160v-160H400v160ZM180-400h160v-160H180v160Zm440 0h160v-160H620v160ZM180-180h160v-160H180v160Zm440 0h160v-160H620v160Z\"/>\n",
              "  </svg>\n",
              "    </button>\n",
              "\n",
              "  <style>\n",
              "    .colab-df-container {\n",
              "      display:flex;\n",
              "      gap: 12px;\n",
              "    }\n",
              "\n",
              "    .colab-df-convert {\n",
              "      background-color: #E8F0FE;\n",
              "      border: none;\n",
              "      border-radius: 50%;\n",
              "      cursor: pointer;\n",
              "      display: none;\n",
              "      fill: #1967D2;\n",
              "      height: 32px;\n",
              "      padding: 0 0 0 0;\n",
              "      width: 32px;\n",
              "    }\n",
              "\n",
              "    .colab-df-convert:hover {\n",
              "      background-color: #E2EBFA;\n",
              "      box-shadow: 0px 1px 2px rgba(60, 64, 67, 0.3), 0px 1px 3px 1px rgba(60, 64, 67, 0.15);\n",
              "      fill: #174EA6;\n",
              "    }\n",
              "\n",
              "    .colab-df-buttons div {\n",
              "      margin-bottom: 4px;\n",
              "    }\n",
              "\n",
              "    [theme=dark] .colab-df-convert {\n",
              "      background-color: #3B4455;\n",
              "      fill: #D2E3FC;\n",
              "    }\n",
              "\n",
              "    [theme=dark] .colab-df-convert:hover {\n",
              "      background-color: #434B5C;\n",
              "      box-shadow: 0px 1px 3px 1px rgba(0, 0, 0, 0.15);\n",
              "      filter: drop-shadow(0px 1px 2px rgba(0, 0, 0, 0.3));\n",
              "      fill: #FFFFFF;\n",
              "    }\n",
              "  </style>\n",
              "\n",
              "    <script>\n",
              "      const buttonEl =\n",
              "        document.querySelector('#df-563d4884-fece-4a05-b436-d8c48b5c3221 button.colab-df-convert');\n",
              "      buttonEl.style.display =\n",
              "        google.colab.kernel.accessAllowed ? 'block' : 'none';\n",
              "\n",
              "      async function convertToInteractive(key) {\n",
              "        const element = document.querySelector('#df-563d4884-fece-4a05-b436-d8c48b5c3221');\n",
              "        const dataTable =\n",
              "          await google.colab.kernel.invokeFunction('convertToInteractive',\n",
              "                                                    [key], {});\n",
              "        if (!dataTable) return;\n",
              "\n",
              "        const docLinkHtml = 'Like what you see? Visit the ' +\n",
              "          '<a target=\"_blank\" href=https://colab.research.google.com/notebooks/data_table.ipynb>data table notebook</a>'\n",
              "          + ' to learn more about interactive tables.';\n",
              "        element.innerHTML = '';\n",
              "        dataTable['output_type'] = 'display_data';\n",
              "        await google.colab.output.renderOutput(dataTable, element);\n",
              "        const docLink = document.createElement('div');\n",
              "        docLink.innerHTML = docLinkHtml;\n",
              "        element.appendChild(docLink);\n",
              "      }\n",
              "    </script>\n",
              "  </div>\n",
              "\n",
              "\n",
              "<div id=\"df-e4354306-5550-4490-9b18-26f2266525c8\">\n",
              "  <button class=\"colab-df-quickchart\" onclick=\"quickchart('df-e4354306-5550-4490-9b18-26f2266525c8')\"\n",
              "            title=\"Suggest charts\"\n",
              "            style=\"display:none;\">\n",
              "\n",
              "<svg xmlns=\"http://www.w3.org/2000/svg\" height=\"24px\"viewBox=\"0 0 24 24\"\n",
              "     width=\"24px\">\n",
              "    <g>\n",
              "        <path d=\"M19 3H5c-1.1 0-2 .9-2 2v14c0 1.1.9 2 2 2h14c1.1 0 2-.9 2-2V5c0-1.1-.9-2-2-2zM9 17H7v-7h2v7zm4 0h-2V7h2v10zm4 0h-2v-4h2v4z\"/>\n",
              "    </g>\n",
              "</svg>\n",
              "  </button>\n",
              "\n",
              "<style>\n",
              "  .colab-df-quickchart {\n",
              "      --bg-color: #E8F0FE;\n",
              "      --fill-color: #1967D2;\n",
              "      --hover-bg-color: #E2EBFA;\n",
              "      --hover-fill-color: #174EA6;\n",
              "      --disabled-fill-color: #AAA;\n",
              "      --disabled-bg-color: #DDD;\n",
              "  }\n",
              "\n",
              "  [theme=dark] .colab-df-quickchart {\n",
              "      --bg-color: #3B4455;\n",
              "      --fill-color: #D2E3FC;\n",
              "      --hover-bg-color: #434B5C;\n",
              "      --hover-fill-color: #FFFFFF;\n",
              "      --disabled-bg-color: #3B4455;\n",
              "      --disabled-fill-color: #666;\n",
              "  }\n",
              "\n",
              "  .colab-df-quickchart {\n",
              "    background-color: var(--bg-color);\n",
              "    border: none;\n",
              "    border-radius: 50%;\n",
              "    cursor: pointer;\n",
              "    display: none;\n",
              "    fill: var(--fill-color);\n",
              "    height: 32px;\n",
              "    padding: 0;\n",
              "    width: 32px;\n",
              "  }\n",
              "\n",
              "  .colab-df-quickchart:hover {\n",
              "    background-color: var(--hover-bg-color);\n",
              "    box-shadow: 0 1px 2px rgba(60, 64, 67, 0.3), 0 1px 3px 1px rgba(60, 64, 67, 0.15);\n",
              "    fill: var(--button-hover-fill-color);\n",
              "  }\n",
              "\n",
              "  .colab-df-quickchart-complete:disabled,\n",
              "  .colab-df-quickchart-complete:disabled:hover {\n",
              "    background-color: var(--disabled-bg-color);\n",
              "    fill: var(--disabled-fill-color);\n",
              "    box-shadow: none;\n",
              "  }\n",
              "\n",
              "  .colab-df-spinner {\n",
              "    border: 2px solid var(--fill-color);\n",
              "    border-color: transparent;\n",
              "    border-bottom-color: var(--fill-color);\n",
              "    animation:\n",
              "      spin 1s steps(1) infinite;\n",
              "  }\n",
              "\n",
              "  @keyframes spin {\n",
              "    0% {\n",
              "      border-color: transparent;\n",
              "      border-bottom-color: var(--fill-color);\n",
              "      border-left-color: var(--fill-color);\n",
              "    }\n",
              "    20% {\n",
              "      border-color: transparent;\n",
              "      border-left-color: var(--fill-color);\n",
              "      border-top-color: var(--fill-color);\n",
              "    }\n",
              "    30% {\n",
              "      border-color: transparent;\n",
              "      border-left-color: var(--fill-color);\n",
              "      border-top-color: var(--fill-color);\n",
              "      border-right-color: var(--fill-color);\n",
              "    }\n",
              "    40% {\n",
              "      border-color: transparent;\n",
              "      border-right-color: var(--fill-color);\n",
              "      border-top-color: var(--fill-color);\n",
              "    }\n",
              "    60% {\n",
              "      border-color: transparent;\n",
              "      border-right-color: var(--fill-color);\n",
              "    }\n",
              "    80% {\n",
              "      border-color: transparent;\n",
              "      border-right-color: var(--fill-color);\n",
              "      border-bottom-color: var(--fill-color);\n",
              "    }\n",
              "    90% {\n",
              "      border-color: transparent;\n",
              "      border-bottom-color: var(--fill-color);\n",
              "    }\n",
              "  }\n",
              "</style>\n",
              "\n",
              "  <script>\n",
              "    async function quickchart(key) {\n",
              "      const quickchartButtonEl =\n",
              "        document.querySelector('#' + key + ' button');\n",
              "      quickchartButtonEl.disabled = true;  // To prevent multiple clicks.\n",
              "      quickchartButtonEl.classList.add('colab-df-spinner');\n",
              "      try {\n",
              "        const charts = await google.colab.kernel.invokeFunction(\n",
              "            'suggestCharts', [key], {});\n",
              "      } catch (error) {\n",
              "        console.error('Error during call to suggestCharts:', error);\n",
              "      }\n",
              "      quickchartButtonEl.classList.remove('colab-df-spinner');\n",
              "      quickchartButtonEl.classList.add('colab-df-quickchart-complete');\n",
              "    }\n",
              "    (() => {\n",
              "      let quickchartButtonEl =\n",
              "        document.querySelector('#df-e4354306-5550-4490-9b18-26f2266525c8 button');\n",
              "      quickchartButtonEl.style.display =\n",
              "        google.colab.kernel.accessAllowed ? 'block' : 'none';\n",
              "    })();\n",
              "  </script>\n",
              "</div>\n",
              "\n",
              "  <div id=\"id_4a337c8d-d690-4889-83a4-d3a2e671b648\">\n",
              "    <style>\n",
              "      .colab-df-generate {\n",
              "        background-color: #E8F0FE;\n",
              "        border: none;\n",
              "        border-radius: 50%;\n",
              "        cursor: pointer;\n",
              "        display: none;\n",
              "        fill: #1967D2;\n",
              "        height: 32px;\n",
              "        padding: 0 0 0 0;\n",
              "        width: 32px;\n",
              "      }\n",
              "\n",
              "      .colab-df-generate:hover {\n",
              "        background-color: #E2EBFA;\n",
              "        box-shadow: 0px 1px 2px rgba(60, 64, 67, 0.3), 0px 1px 3px 1px rgba(60, 64, 67, 0.15);\n",
              "        fill: #174EA6;\n",
              "      }\n",
              "\n",
              "      [theme=dark] .colab-df-generate {\n",
              "        background-color: #3B4455;\n",
              "        fill: #D2E3FC;\n",
              "      }\n",
              "\n",
              "      [theme=dark] .colab-df-generate:hover {\n",
              "        background-color: #434B5C;\n",
              "        box-shadow: 0px 1px 3px 1px rgba(0, 0, 0, 0.15);\n",
              "        filter: drop-shadow(0px 1px 2px rgba(0, 0, 0, 0.3));\n",
              "        fill: #FFFFFF;\n",
              "      }\n",
              "    </style>\n",
              "    <button class=\"colab-df-generate\" onclick=\"generateWithVariable('df2')\"\n",
              "            title=\"Generate code using this dataframe.\"\n",
              "            style=\"display:none;\">\n",
              "\n",
              "  <svg xmlns=\"http://www.w3.org/2000/svg\" height=\"24px\"viewBox=\"0 0 24 24\"\n",
              "       width=\"24px\">\n",
              "    <path d=\"M7,19H8.4L18.45,9,17,7.55,7,17.6ZM5,21V16.75L18.45,3.32a2,2,0,0,1,2.83,0l1.4,1.43a1.91,1.91,0,0,1,.58,1.4,1.91,1.91,0,0,1-.58,1.4L9.25,21ZM18.45,9,17,7.55Zm-12,3A5.31,5.31,0,0,0,4.9,8.1,5.31,5.31,0,0,0,1,6.5,5.31,5.31,0,0,0,4.9,4.9,5.31,5.31,0,0,0,6.5,1,5.31,5.31,0,0,0,8.1,4.9,5.31,5.31,0,0,0,12,6.5,5.46,5.46,0,0,0,6.5,12Z\"/>\n",
              "  </svg>\n",
              "    </button>\n",
              "    <script>\n",
              "      (() => {\n",
              "      const buttonEl =\n",
              "        document.querySelector('#id_4a337c8d-d690-4889-83a4-d3a2e671b648 button.colab-df-generate');\n",
              "      buttonEl.style.display =\n",
              "        google.colab.kernel.accessAllowed ? 'block' : 'none';\n",
              "\n",
              "      buttonEl.onclick = () => {\n",
              "        google.colab.notebook.generateWithVariable('df2');\n",
              "      }\n",
              "      })();\n",
              "    </script>\n",
              "  </div>\n",
              "\n",
              "    </div>\n",
              "  </div>\n"
            ],
            "application/vnd.google.colaboratory.intrinsic+json": {
              "type": "dataframe",
              "variable_name": "df2",
              "summary": "{\n  \"name\": \"df2\",\n  \"rows\": 300,\n  \"fields\": [\n    {\n      \"column\": \"variable\",\n      \"properties\": {\n        \"dtype\": \"category\",\n        \"num_unique_values\": 6,\n        \"samples\": [\n          \"TypeA_before\",\n          \"TypeA_after\",\n          \"TypeC_after\"\n        ],\n        \"semantic_type\": \"\",\n        \"description\": \"\"\n      }\n    },\n    {\n      \"column\": \"value\",\n      \"properties\": {\n        \"dtype\": \"number\",\n        \"std\": 9,\n        \"min\": 250,\n        \"max\": 295,\n        \"num_unique_values\": 41,\n        \"samples\": [\n          279,\n          250,\n          264\n        ],\n        \"semantic_type\": \"\",\n        \"description\": \"\"\n      }\n    }\n  ]\n}"
            }
          },
          "metadata": {},
          "execution_count": 5
        }
      ],
      "source": [
        "df2 =  pd.melt(df)\n",
        "df2"
      ]
    },
    {
      "cell_type": "code",
      "execution_count": 6,
      "metadata": {
        "colab": {
          "base_uri": "https://localhost:8080/",
          "height": 828
        },
        "id": "XlM0bTsiiQca",
        "outputId": "f2ac0b85-42e4-4363-9c66-e1692af3dc1a"
      },
      "outputs": [
        {
          "output_type": "display_data",
          "data": {
            "text/plain": [
              "<Figure size 1800x900 with 1 Axes>"
            ],
            "image/png": "[encoded data removed]"
          },
          "metadata": {}
        }
      ],
      "source": [
        "# 그룹 별 박스 플롯 시각화\n",
        "plt.figure(figsize=(12,6))\n",
        "sns.boxplot(x='variable', y='value', data=df2)\n",
        "plt.title('Golf ball test')\n",
        "plt.show()"
      ]
    },
    {
      "cell_type": "markdown",
      "metadata": {
        "id": "xXia5TC7iQca"
      },
      "source": [
        "## 데이터 정규성 검정"
      ]
    },
    {
      "cell_type": "markdown",
      "metadata": {
        "id": "tF3J9kb7iQca"
      },
      "source": [
        "### - 데이터 정규성 검정: shapiro()"
      ]
    },
    {
      "cell_type": "code",
      "execution_count": 7,
      "metadata": {
        "colab": {
          "base_uri": "https://localhost:8080/"
        },
        "id": "ToJwRZkDiQca",
        "outputId": "a8e297b5-f370-48b0-86b4-1edeb1d2dda1"
      },
      "outputs": [
        {
          "output_type": "stream",
          "name": "stdout",
          "text": [
            "ShapiroResult(statistic=np.float64(0.9655377158052212), pvalue=np.float64(0.15154941346876938))\n",
            "ShapiroResult(statistic=np.float64(0.9728279567361319), pvalue=np.float64(0.30051020169283893))\n",
            "ShapiroResult(statistic=np.float64(0.9730037974106026), pvalue=np.float64(0.305345354286895))\n",
            "ShapiroResult(statistic=np.float64(0.9693011028933032), pvalue=np.float64(0.2167560294629035))\n",
            "ShapiroResult(statistic=np.float64(0.9595516780117022), pvalue=np.float64(0.08512947305030288))\n",
            "ShapiroResult(statistic=np.float64(0.946983211173158), pvalue=np.float64(0.025681947801527313))\n"
          ]
        }
      ],
      "source": [
        "# 데이터 정규성 검정\n",
        "\n",
        "print(shapiro(df['TypeA_before']))\n",
        "print(shapiro(df['TypeA_after']))\n",
        "print(shapiro(df['TypeB_before']))\n",
        "print(shapiro(df['TypeB_after']))\n",
        "print(shapiro(df['TypeC_before']))\n",
        "print(shapiro(df['TypeC_after']))"
      ]
    },
    {
      "cell_type": "markdown",
      "metadata": {
        "id": "aDcMe0P8iQca"
      },
      "source": [
        "#### - 데이터 정규성에 대한 결과 검토\n",
        "\n",
        "- TpyeC_after 외의 모든 p-value가 유의수준 0.05 보다 큼\n",
        "\n",
        "  => 변수 값이 정규성에서 벗어나지 않는다는 귀무가설 채택\n",
        "  \n",
        "  => 해당 데이터는 정규성을 가짐\n",
        "\n",
        "- 정규성을 가지지 못하는 데이터는 정규성을 가질 수 있도록 데이터 변환 필요: 이상치 처리, 스케일링 등"
      ]
    },
    {
      "cell_type": "code",
      "execution_count": 8,
      "metadata": {
        "colab": {
          "base_uri": "https://localhost:8080/",
          "height": 664
        },
        "id": "UI6hU035iQcb",
        "outputId": "982be3ec-c7d1-4122-d753-d58fbc161bad"
      },
      "outputs": [
        {
          "output_type": "display_data",
          "data": {
            "text/plain": [
              "<Figure size 960x720 with 1 Axes>"
            ],
            "image/png": "[encoded data removed]"
          },
          "metadata": {}
        }
      ],
      "source": [
        "import matplotlib\n",
        "import seaborn as sns\n",
        "\n",
        "# plt.hist(x=df['TypeA_before'], bins= 20)\n",
        "# plt.hist(x=df['TypeA_after'], bins= 20)\n",
        "# plt.hist(x=df['TypeC_after'], bins= 20)\n",
        "\n",
        "sns.kdeplot(data=df['TypeA_before'], fill=True, color='red')\n",
        "sns.kdeplot(data=df['TypeA_after'], fill=True, color='blue')\n",
        "sns.kdeplot(data=df['TypeC_before'], fill=True, color='green')\n",
        "sns.kdeplot(data=df['TypeC_after'], fill=True, color='yellow')\n",
        "\n",
        "plt.xlabel(\"Data\")\n",
        "plt.show()"
      ]
    },
    {
      "cell_type": "markdown",
      "metadata": {
        "id": "twC27O2RiQcb"
      },
      "source": [
        "## 데이터 등분산성 검정\n",
        "\n"
      ]
    },
    {
      "cell_type": "markdown",
      "metadata": {
        "id": "2sTT9HQXiQcb"
      },
      "source": [
        "### - bartlett 등분산성 검정 방법\n",
        "\n",
        "- 두 집단 이상의 등분산성 검정\n",
        "- 정규분포 따를 때 사용"
      ]
    },
    {
      "cell_type": "code",
      "execution_count": 9,
      "metadata": {
        "colab": {
          "base_uri": "https://localhost:8080/"
        },
        "id": "EhdFTa1MiQcb",
        "outputId": "8077b0aa-876f-4ac5-c7da-82d1f4e799cf"
      },
      "outputs": [
        {
          "output_type": "execute_result",
          "data": {
            "text/plain": [
              "BartlettResult(statistic=np.float64(2.232358764161634), pvalue=np.float64(0.8161484218330712))"
            ]
          },
          "metadata": {},
          "execution_count": 9
        }
      ],
      "source": [
        "# 정규분포 데이터 등분산성 검정\n",
        "stats.bartlett(df['TypeA_before'],df['TypeA_after'],\n",
        "               df['TypeB_before'],df['TypeB_after'],\n",
        "               df['TypeC_before'],df['TypeC_after'])"
      ]
    },
    {
      "cell_type": "markdown",
      "metadata": {
        "id": "7f5ooxgwiQcb"
      },
      "source": [
        "#### - bartlett 검정 결과 검토\n",
        "\n",
        "- p-value가 유의수준 0.05 보다 큼\n",
        "\n",
        "  => 데이터들이 상호간에 분산 차이가 없다는 귀무가설 채택\n",
        "  \n",
        "  => 등분산성을 만족하고 있다."
      ]
    },
    {
      "cell_type": "markdown",
      "metadata": {
        "id": "HFk75O_piQcb"
      },
      "source": [
        "### - Levene 등분산성 검정\n",
        "\n",
        "- 두 집단 이상의 등분산성 검정\n",
        "- 정규분포 따르지 않을 때 사용"
      ]
    },
    {
      "cell_type": "code",
      "execution_count": 10,
      "metadata": {
        "colab": {
          "base_uri": "https://localhost:8080/"
        },
        "id": "VNZQPSlmiQcb",
        "outputId": "d245b056-6df3-4cbe-b798-852ae9fdb914"
      },
      "outputs": [
        {
          "output_type": "execute_result",
          "data": {
            "text/plain": [
              "LeveneResult(statistic=np.float64(0.3006654380902731), pvalue=np.float64(0.9122456830293507))"
            ]
          },
          "metadata": {},
          "execution_count": 10
        }
      ],
      "source": [
        "# 비정규분포 데이터 등분산성 검정\n",
        "stats.levene(df['TypeA_before'],df['TypeA_after'],\n",
        "               df['TypeB_before'],df['TypeB_after'],\n",
        "               df['TypeC_before'],df['TypeC_after'])"
      ]
    },
    {
      "cell_type": "markdown",
      "metadata": {
        "id": "_WO_sOksiQcb"
      },
      "source": [
        "#### - Levene 검정 결과 검토\n",
        "\n",
        "- p-value가 유의수준 0.05 보다 큼 ==> 데이터들이 상호간에 분산 차이가 없다는 귀무가설 채택 ==> 등분산성을 만족하고 있다."
      ]
    },
    {
      "cell_type": "code",
      "execution_count": 11,
      "metadata": {
        "colab": {
          "base_uri": "https://localhost:8080/",
          "height": 664
        },
        "id": "gBR0dPFeiQcb",
        "outputId": "f65a59f4-32f5-42dd-d775-33de7ea56c14"
      },
      "outputs": [
        {
          "output_type": "display_data",
          "data": {
            "text/plain": [
              "<Figure size 960x720 with 1 Axes>"
            ],
            "image/png": "[encoded data removed]"
          },
          "metadata": {}
        }
      ],
      "source": [
        "sns.kdeplot(df['TypeA_before'], color='red', fill=True)\n",
        "sns.kdeplot(df['TypeA_after'], color='darkred', fill=True)\n",
        "sns.kdeplot(df['TypeB_before'], color='blue', fill=True)\n",
        "sns.kdeplot(df['TypeB_after'], color='darkblue', fill=True)\n",
        "sns.kdeplot(df['TypeC_before'], color='green', fill=True)\n",
        "sns.kdeplot(df['TypeC_after'], color='darkgreen', fill=True)\n",
        "plt.xlabel(\"Data\")\n",
        "plt.show()"
      ]
    },
    {
      "cell_type": "markdown",
      "metadata": {
        "id": "l2vgH829iQcb"
      },
      "source": [
        "## Z-test 검정"
      ]
    },
    {
      "cell_type": "markdown",
      "metadata": {
        "id": "kphTc6B7iQcb"
      },
      "source": [
        "### - Type A 처리 전과 후의 유의성 테스트를 위한 Z-test 검정"
      ]
    },
    {
      "cell_type": "code",
      "execution_count": 12,
      "metadata": {
        "colab": {
          "base_uri": "https://localhost:8080/"
        },
        "id": "L-5dwOgGiQcb",
        "outputId": "5926690f-e9e2-4601-93e0-55268ee511ab"
      },
      "outputs": [
        {
          "output_type": "execute_result",
          "data": {
            "text/plain": [
              "(np.float64(-1.2313987682249838), np.float64(0.21817375744980994))"
            ]
          },
          "metadata": {},
          "execution_count": 12
        }
      ],
      "source": [
        "# Z-test (TypeA_Before와 TypeA_After)\n",
        "ztest(df['TypeA_before'], x2=df['TypeA_after'], value=0, alternative='two-sided')"
      ]
    },
    {
      "cell_type": "markdown",
      "metadata": {
        "id": "WDNF9Tt5iQcb"
      },
      "source": [
        "#### - 처리 전후 유의성 Z-test 결과에 대한 검토(Type A의 효과 유무)\n",
        "- 결과:\n",
        "\n",
        "  z-통계량: -1.2313...\n",
        "\n",
        "  p-value: 0.2181...\n",
        "\n",
        "- p-value가 양측 검정 유의수준 0.025 보다 큼\n",
        "\n",
        "  => 골프공에 대해서 Type A 처리 전과 처리 후의 비거리 차이가 없다는 귀무가설 채택\n",
        "  \n",
        "  => Type A 처리 효과가 없음."
      ]
    },
    {
      "cell_type": "markdown",
      "metadata": {
        "id": "1KF-M-FjiQcb"
      },
      "source": [
        "### - 양측검정, 단측검정(왼꼬리 검정), 단측검정(오른꼬리 검정)\n",
        "\n",
        "- 비교 대상: TypeA와 TypeB 처리 전 비거리\n",
        "\n",
        "- 양측검정: TypeA와 TpyeB 처리전의 골프공 드라이버 비거리 차이가 있나?\n",
        "\n",
        "- 단측검정(왼꼬리 검정): TypeA 처리전의 골프공 드라이브 비거리가 TypeB 처리전의 비거리보다 작으냐?\n",
        "\n",
        "- 단측검정(오른꼬리 검정): TypeA 처리전의 골프공 드라이브 비거리가 TypeB 처리전의 비거리보다 크냐?"
      ]
    },
    {
      "cell_type": "code",
      "execution_count": 13,
      "metadata": {
        "colab": {
          "base_uri": "https://localhost:8080/"
        },
        "id": "SGz0qgNDiQcb",
        "outputId": "0c9147ca-bdf4-4b03-e7f8-aa39fd583bae"
      },
      "outputs": [
        {
          "output_type": "stream",
          "name": "stdout",
          "text": [
            "(np.float64(-2.789495974658115), np.float64(0.005279015267745852))\n",
            "(np.float64(-2.789495974658115), np.float64(0.002639507633872926))\n",
            "(np.float64(-2.789495974658115), np.float64(0.9973604923661271))\n"
          ]
        }
      ],
      "source": [
        "# Z-test (TypeA_Before와 TypeB_before)\n",
        "\n",
        "# 양측검정\n",
        "print(ztest(df['TypeA_before'], x2=df['TypeB_before'], value=0, alternative='two-sided'))\n",
        "\n",
        "# 단측검정(왼꼬리검정)\n",
        "print(ztest(df['TypeA_before'], x2=df['TypeB_before'], value=0, alternative='smaller'))\n",
        "\n",
        "# 단측검정(오른꼬리검정)\n",
        "print(ztest(df['TypeA_before'], x2=df['TypeB_before'], value=0, alternative='larger'))"
      ]
    },
    {
      "cell_type": "markdown",
      "metadata": {
        "id": "iwko77AsiQcc"
      },
      "source": [
        "#### - 양측, 단측 Z-test 검정 결과 검토\n",
        "\n",
        "- 양측검정: p-value가 양측검증 유의수준 0.05의 비교 기준인 0.025 보다 작음 ==> 차이가 없다는 귀무가설 기각 ==> 비거리 차이가 있음\n",
        "\n",
        "- 단측검정(왼꼬리 검정): p-value가 단측검정 비교 기준인 0.05 보다 작음 ==> 거리가 작지 않다는 귀무가설 기각 ==> TypeA의 비거리가 작음\n",
        "\n",
        "- 단측검정(오른꼬리 검정): p-value가 단측검정 비교 기준인 0.05보다 큼 ==> 거리가 크지 않다는 귀무가설 채택 ==> TypeA의 비거리가 크지 않음"
      ]
    },
    {
      "cell_type": "markdown",
      "metadata": {
        "id": "QCTK1TM7iQcc"
      },
      "source": [
        "## t-test 검정"
      ]
    },
    {
      "cell_type": "markdown",
      "metadata": {
        "id": "U5ekmYcziQcc"
      },
      "source": [
        "### - 대응표본 t-test검정: A 처리 전과 처리 후\n",
        "\n",
        "- 대응표본이란\n",
        "\n",
        "    - 두 집단의 자료를 쌍으로 묶을 수 있을 때: 예) 남편과 아내, 쌍둥이, before & after\n",
        "    - 두 집단의 자료가 쌍이기에 두 집단의 자료의 갯수가 동일\n",
        "\n",
        "- 대응표본 t-test\n",
        "\n",
        "    - 쌍을 이루고 있는 두 값의 차이 구함\n",
        "    - 귀무가설: 모집단에서 차이의 평균은 0  \n"
      ]
    },
    {
      "cell_type": "code",
      "execution_count": 18,
      "metadata": {
        "colab": {
          "base_uri": "https://localhost:8080/"
        },
        "id": "Ziihd_M5iQcc",
        "outputId": "5056d2a1-7687-43fd-874f-476cfcf97d40"
      },
      "outputs": [
        {
          "output_type": "execute_result",
          "data": {
            "text/plain": [
              "TtestResult(statistic=np.float64(-1.221439914972903), pvalue=np.float64(0.227763764486876), df=np.int64(49))"
            ]
          },
          "metadata": {},
          "execution_count": 18
        }
      ],
      "source": [
        "# 대응표본 t검정 수행\n",
        "# scipy.stats.ttest_rel(df['TypeA_before'],df['TypeA_after'])\n",
        "ttest_rel(df['TypeA_before'],df['TypeA_after'])"
      ]
    },
    {
      "cell_type": "markdown",
      "metadata": {
        "id": "SFVpV9-JiQcc"
      },
      "source": [
        "#### - 대응표본 t-test 검정 결과 검토\n",
        "\n",
        "- p-value가 유의수준 0.05의 비교 값 0.025 보다 큼 ==> TypeA 처리 전후에 거리 차이가 없다는 귀무가설 채택 ==> 비거리 차이가 없음\n",
        "\n"
      ]
    },
    {
      "cell_type": "markdown",
      "metadata": {
        "id": "BQWhimVJiQcc"
      },
      "source": [
        "\n",
        "\n",
        "#### - 독립표본 t-test 검정: A처리 전과 B처리전\n",
        "\n",
        "- 독립표본이란?\n",
        "\n",
        "    - 두 표본집단을 구성할 때 독립으로 뽑을 경우\n",
        "    - 비교\n",
        "        - 독립표본의 경우: 무작위로 남자 100명과 여자 100명을 뽑아 두 집단을 비교할 경우\n",
        "        - 대응표본의 경우: 부부 100상을 뽑아 남편 100명과 아내 100명의 두 집단을 비교할 경우"
      ]
    },
    {
      "cell_type": "markdown",
      "source": [
        "ttest_ind() 사용 설명\n",
        "\n",
        "- 입력 파라미터\n",
        "\n",
        "  - equal_var: 입력되는 두 집단의 분산이 같다고 할 경우 True (Student's t-test), 두 집단의 분산이 다르다고 할 경우 False (Welch's t-test)\n",
        "\n",
        "- 출력 값\n",
        "\n",
        "  - t_stat: 차이의 정도\n",
        "\n",
        "  - p_value\n",
        "\n",
        "  - df: 자유도(degree of freedom)"
      ],
      "metadata": {
        "id": "0I_RNW-joore"
      }
    },
    {
      "cell_type": "code",
      "execution_count": 15,
      "metadata": {
        "colab": {
          "base_uri": "https://localhost:8080/"
        },
        "id": "wO5tllJliQcc",
        "outputId": "c2387036-438f-4086-dccc-748e5a1df52d"
      },
      "outputs": [
        {
          "output_type": "execute_result",
          "data": {
            "text/plain": [
              "TtestResult(statistic=np.float64(-2.789495974658115), pvalue=np.float64(0.0063642243501398285), df=np.float64(96.23536968302767))"
            ]
          },
          "metadata": {},
          "execution_count": 15
        }
      ],
      "source": [
        "# 독립표본 t검정 수행\n",
        "ttest_ind(df['TypeA_before'],df['TypeB_before'], equal_var=False)"
      ]
    },
    {
      "cell_type": "markdown",
      "metadata": {
        "id": "M52zDXENiQcc"
      },
      "source": [
        "#### - 독립표본 t-test 결과 검토\n",
        "\n",
        "- p-value가 유의수준 0.05의 양측검정 비교값 0.025보다 작음 ==> TypeA와 TypeB 처리 전 거리는 같다는 귀무가설 기각 ==> 유의미한 비거리 차이가 있음\n",
        "\n"
      ]
    }
  ],
  "metadata": {
    "kernelspec": {
      "display_name": "Python 3 (ipykernel)",
      "language": "python",
      "name": "python3"
    },
    "language_info": {
      "codemirror_mode": {
        "name": "ipython",
        "version": 3
      },
      "file_extension": ".py",
      "mimetype": "text/x-python",
      "name": "python",
      "nbconvert_exporter": "python",
      "pygments_lexer": "ipython3",
      "version": "3.9.18"
    },
    "colab": {
      "provenance": []
    }
  },
  "nbformat": 4,
  "nbformat_minor": 0
}