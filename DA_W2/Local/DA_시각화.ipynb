{
 "cells": [
  {
   "cell_type": "markdown",
   "metadata": {},
   "source": [
    "# 파이썬에서의 다양한 시각화 방법"
   ]
  },
  {
   "cell_type": "markdown",
   "metadata": {},
   "source": [
    "- matplotlib\n",
    "- seaborn\n",
    "- plotnine\n",
    "- folium\n",
    "- plot.ly\n",
    "- pyecharts"
   ]
  },
  {
   "cell_type": "markdown",
   "metadata": {},
   "source": [
    "## 1. Matplotlib"
   ]
  },
  {
   "cell_type": "code",
   "execution_count": null,
   "metadata": {},
   "outputs": [],
   "source": [
    "import pandas as pd\n",
    "import numpy as np\n",
    "import matplotlib\n",
    "import matplotlib.pyplot as plt\n",
    "\n",
    "print(\"Matplotlib version\", matplotlib.__version__)\n",
    "# %matplotlib inline\n",
    "# %config InlineBackend.figure_format = 'retina'"
   ]
  },
  {
   "cell_type": "markdown",
   "metadata": {},
   "source": [
    "### - 한글 폰트 지원"
   ]
  },
  {
   "cell_type": "code",
   "execution_count": null,
   "metadata": {},
   "outputs": [],
   "source": [
    "import matplotlib.pyplot as plt\n",
    "import matplotlib.font_manager as fm\n",
    "import platform\n",
    "\n",
    "# 운영체제에 따른 폰트 경로 설정\n",
    "if platform.system() == \"Darwin\":  # Mac\n",
    "    font_path = \"/System/Library/Fonts/Supplemental/AppleGothic.ttf\"  # Mac 기본 한글 폰트\n",
    "elif platform.system() == \"Windows\":  # Windows\n",
    "    font_path = \"C:/Windows/Fonts/malgun.ttf\"\n",
    "else:\n",
    "    font_path = None\n",
    "\n",
    "# 폰트 설정\n",
    "if font_path:\n",
    "    font_name = fm.FontProperties(fname=font_path).get_name()\n",
    "    plt.rc('font', family=font_name)\n",
    "else:\n",
    "    print(\"지원되지 않는 OS이거나 폰트 파일이 없습니다.\")\n",
    "\n",
    "# 테스트 그래프 출력\n",
    "plt.plot([1, 2, 3], [4, 3, 7])\n",
    "plt.title(\"한글 폰트 테스트\")\n",
    "plt.show()\n"
   ]
  },
  {
   "cell_type": "code",
   "execution_count": null,
   "metadata": {},
   "outputs": [],
   "source": [
    "import matplotlib.font_manager as fm\n",
    "\n",
    "# 한글 폰트 지원\n",
    "font_path = 'C:/Windows/Fonts/malgun.ttf'\n",
    "\n",
    "# 폰트 이름 가져오기\n",
    "font_name = fm.FontProperties(fname=font_path).get_name()\n",
    "\n",
    "# 폰트 설정\n",
    "plt.rc('font', family=font_name) "
   ]
  },
  {
   "cell_type": "markdown",
   "metadata": {},
   "source": [
    "### - Figure 그리기"
   ]
  },
  {
   "cell_type": "markdown",
   "metadata": {},
   "source": [
    "- Figure의 구성요소\n",
    "\n",
    "<!-- ![plot의 구성요소](./resource/plot.png) -->\n",
    "<img src='./resource/plot.png' width = \"500px\" height = \"500px\" alt=\"fig 구성\"></img>"
   ]
  },
  {
   "cell_type": "code",
   "execution_count": null,
   "metadata": {},
   "outputs": [],
   "source": [
    "fig = plt.figure()\n",
    "fig.suptitle('figure sample plots')\n",
    "\n",
    "fig, ax_lst = plt.subplots(2, 2, figsize=(8,5))\n",
    "\n",
    "ax_lst[0][0].plot([1,2,3,4], 'ro-')\n",
    "ax_lst[0][1].plot(np.random.randn(4, 10), np.random.randn(4,10), 'bo--')\n",
    "ax_lst[1][0].plot(np.linspace(0.0, 5.0), np.cos(2 * np.pi * np.linspace(0.0, 5.0)))\n",
    "ax_lst[1][1].plot([3,5], [3,5], 'bo:')\n",
    "ax_lst[1][1].plot([3,7], [5,4], 'kx')\n",
    "plt.show()"
   ]
  },
  {
   "cell_type": "markdown",
   "metadata": {},
   "source": [
    "### - Pandas로 그리기"
   ]
  },
  {
   "cell_type": "markdown",
   "metadata": {},
   "source": [
    "- pandas plot"
   ]
  },
  {
   "cell_type": "code",
   "execution_count": null,
   "metadata": {},
   "outputs": [],
   "source": [
    "df = pd.DataFrame(np.random.randn(4,4))\n",
    "\n",
    "df"
   ]
  },
  {
   "cell_type": "markdown",
   "metadata": {},
   "source": [
    "- 가로 방향 바 그리기"
   ]
  },
  {
   "cell_type": "code",
   "execution_count": null,
   "metadata": {},
   "outputs": [],
   "source": [
    "df.plot(kind='barh')"
   ]
  },
  {
   "cell_type": "markdown",
   "metadata": {},
   "source": [
    "- 커널밀도추정 그래프 그리기 (kde)"
   ]
  },
  {
   "cell_type": "code",
   "execution_count": null,
   "metadata": {},
   "outputs": [],
   "source": [
    "df.plot(kind='kde')"
   ]
  },
  {
   "cell_type": "markdown",
   "metadata": {},
   "source": [
    "- 그룹별 누적하여 바 차트로 그리기"
   ]
  },
  {
   "cell_type": "code",
   "execution_count": null,
   "metadata": {},
   "outputs": [],
   "source": [
    "df = pd.DataFrame({'years':['2018', '2018', '2019', '2019', '2020', '2021'], 'values': [2, 4, 3, 1, 4, 7]})\n",
    "\n",
    "df"
   ]
  },
  {
   "cell_type": "code",
   "execution_count": null,
   "metadata": {},
   "outputs": [],
   "source": [
    "grouped_data = df.groupby('years')\n",
    "result = grouped_data['values'].sum()"
   ]
  },
  {
   "cell_type": "code",
   "execution_count": null,
   "metadata": {},
   "outputs": [],
   "source": [
    "type(grouped_data)\n",
    "print(grouped_data)\n",
    "print(grouped_data['values'])\n",
    "grouped_data.head()"
   ]
  },
  {
   "cell_type": "code",
   "execution_count": null,
   "metadata": {},
   "outputs": [],
   "source": [
    "plt.figure(figsize=(6,4))\n",
    "# plt.bar(df['years'], df['values'])\n",
    "# plt.bar(grouped_df['years'], grouped_df['values'])\n",
    "# plt.bar(grouped_data['years'],result)\n",
    "result.plot(kind='bar',)\n",
    "plt.title('years 대비 values', fontsize=10)\n",
    "plt.xticks(fontsize=10)\n",
    "plt.yticks(fontsize=10)\n",
    "\n",
    "plt.show()"
   ]
  },
  {
   "cell_type": "markdown",
   "metadata": {},
   "source": [
    "## 2. Seaborn"
   ]
  },
  {
   "cell_type": "code",
   "execution_count": null,
   "metadata": {},
   "outputs": [],
   "source": [
    "import seaborn as sns\n",
    "\n",
    "print(\"Seaborn version : \", sns.__version__)\n",
    "sns.set()\n",
    "sns.set_style('whitegrid')\n",
    "sns.set_color_codes()"
   ]
  },
  {
   "cell_type": "code",
   "execution_count": null,
   "metadata": {},
   "outputs": [],
   "source": [
    "current_palette = sns.color_palette()\n",
    "sns.palplot(current_palette)"
   ]
  },
  {
   "cell_type": "code",
   "execution_count": null,
   "metadata": {},
   "outputs": [],
   "source": [
    "tips = sns.load_dataset(\"tips\")\n",
    "\n",
    "tips.head()"
   ]
  },
  {
   "cell_type": "code",
   "execution_count": null,
   "metadata": {},
   "outputs": [],
   "source": [
    "tips.describe(include='all')"
   ]
  },
  {
   "cell_type": "markdown",
   "metadata": {},
   "source": [
    "### - pie()"
   ]
  },
  {
   "cell_type": "code",
   "execution_count": null,
   "metadata": {},
   "outputs": [],
   "source": [
    "tips.smoker.value_counts().plot.pie(autopct='%0.2f%%', title='tips per various points')"
   ]
  },
  {
   "cell_type": "markdown",
   "metadata": {},
   "source": [
    "### - kedplot()"
   ]
  },
  {
   "cell_type": "code",
   "execution_count": null,
   "metadata": {},
   "outputs": [],
   "source": [
    "sns.kdeplot(x=tips.total_bill, color='red', fill = True)\n",
    "sns.kdeplot(x=tips.tip, color='blue', fill = True)\n",
    "sns.kdeplot(x=tips['size'], color='green', fill = True)\n"
   ]
  },
  {
   "cell_type": "markdown",
   "metadata": {},
   "source": [
    "### - scatterplot()"
   ]
  },
  {
   "cell_type": "code",
   "execution_count": null,
   "metadata": {},
   "outputs": [],
   "source": [
    "sns.scatterplot(x='total_bill', y='tip', hue='smoker', data=tips, s=100)"
   ]
  },
  {
   "cell_type": "markdown",
   "metadata": {},
   "source": [
    "### - replot()"
   ]
  },
  {
   "cell_type": "code",
   "execution_count": null,
   "metadata": {},
   "outputs": [],
   "source": [
    "sns.relplot(x=\"total_bill\", y=\"tip\", hue=\"smoker\", style=\"smoker\",\n",
    "            data=tips)"
   ]
  },
  {
   "cell_type": "code",
   "execution_count": null,
   "metadata": {},
   "outputs": [],
   "source": [
    "df = pd.DataFrame(dict(time=np.arange(500),\n",
    "                       value=np.random.randn(500).cumsum()))\n",
    "g = sns.relplot(x=\"time\", y=\"value\", kind=\"line\", data=df)\n",
    "# g.fig.autofmt_xdate()"
   ]
  },
  {
   "cell_type": "markdown",
   "metadata": {},
   "source": [
    "### - Catplot()"
   ]
  },
  {
   "cell_type": "code",
   "execution_count": null,
   "metadata": {},
   "outputs": [],
   "source": [
    "sns.catplot(x=\"day\", y=\"total_bill\", hue=\"smoker\",\n",
    "            col=\"time\", aspect=1.,\n",
    "            kind=\"swarm\", data=tips)"
   ]
  },
  {
   "cell_type": "code",
   "execution_count": null,
   "metadata": {},
   "outputs": [],
   "source": [
    "sns.catplot(x=\"total_bill\", y=\"day\", hue=\"smoker\",\n",
    "            col=\"time\", aspect=1.,\n",
    "            kind=\"box\", orient = \"h\", data=tips)"
   ]
  },
  {
   "cell_type": "markdown",
   "metadata": {},
   "source": [
    "### - Pairplot()"
   ]
  },
  {
   "cell_type": "code",
   "execution_count": null,
   "metadata": {},
   "outputs": [],
   "source": [
    "sns.pairplot(tips)"
   ]
  },
  {
   "cell_type": "code",
   "execution_count": null,
   "metadata": {},
   "outputs": [],
   "source": [
    "sns.pairplot(tips, hue='smoker')"
   ]
  },
  {
   "cell_type": "markdown",
   "metadata": {},
   "source": [
    "### - PairGrid"
   ]
  },
  {
   "cell_type": "code",
   "execution_count": null,
   "metadata": {},
   "outputs": [],
   "source": [
    "g = sns.PairGrid(tips, hue='smoker')\n",
    "g.map_diag(sns.kdeplot)\n",
    "g.map_offdiag(sns.kdeplot, n_levels=6)"
   ]
  },
  {
   "cell_type": "markdown",
   "metadata": {},
   "source": [
    "### - heatmap()"
   ]
  },
  {
   "cell_type": "code",
   "execution_count": null,
   "metadata": {},
   "outputs": [],
   "source": [
    "tips1 = tips.replace({'smoker':'Yes', 'sex': 'Male'}, 1)\n",
    "tips1 = tips1.replace({'smoker':'No', 'sex': 'Female'}, 0)\n",
    "tips1.head()"
   ]
  },
  {
   "cell_type": "code",
   "execution_count": null,
   "metadata": {},
   "outputs": [],
   "source": [
    "tips1.info()"
   ]
  },
  {
   "cell_type": "code",
   "execution_count": null,
   "metadata": {},
   "outputs": [],
   "source": [
    "tips1['smoker'] = tips1.smoker.astype('int')\n",
    "tips1['sex'] = tips1.sex.astype('int')\n",
    "tips1.info()"
   ]
  },
  {
   "cell_type": "code",
   "execution_count": null,
   "metadata": {},
   "outputs": [],
   "source": [
    "tips1 = tips1[[\"total_bill\", \"tip\", \"size\", \"smoker\", \"sex\"]].astype('float').corr()\n",
    "plt.figure(figsize=(6, 6))\n",
    "ax = sns.heatmap(tips1, annot=True)"
   ]
  },
  {
   "cell_type": "markdown",
   "metadata": {},
   "source": [
    "## 3. Folium"
   ]
  },
  {
   "cell_type": "markdown",
   "metadata": {},
   "source": [
    "- 지도 데이터 (Open Street Map)에 위치 정보를 시각화하는 라이브러리\n",
    "- 한국 GeoJson 데이터는 southkorea-maps에서 확인 가능"
   ]
  },
  {
   "cell_type": "code",
   "execution_count": null,
   "metadata": {},
   "outputs": [],
   "source": [
    "!pip install folium"
   ]
  },
  {
   "cell_type": "code",
   "execution_count": null,
   "metadata": {},
   "outputs": [],
   "source": [
    "import folium\n",
    "\n",
    "print(\"folium version is\", folium.__version__)"
   ]
  },
  {
   "cell_type": "code",
   "execution_count": null,
   "metadata": {},
   "outputs": [],
   "source": [
    "m = folium.Map(location=[37.6002, 127.032], zoom_start=11)\n",
    "folium.Marker(location=[37.7095512, 127.046037], popup=\"신한대학교\", icon=folium.Icon(color='blue',icon='home')).add_to(m)\n",
    "folium.Marker(location=[37.5411, 127.0107], popup=\"한남동\", icon=folium.Icon(color='red')).add_to(m)\n",
    "\n",
    "m"
   ]
  }
 ],
 "metadata": {
  "kernelspec": {
   "display_name": "ip",
   "language": "python",
   "name": "python3"
  },
  "language_info": {
   "codemirror_mode": {
    "name": "ipython",
    "version": 3
   },
   "file_extension": ".py",
   "mimetype": "text/x-python",
   "name": "python",
   "nbconvert_exporter": "python",
   "pygments_lexer": "ipython3",
   "version": "3.10.16"
  }
 },
 "nbformat": 4,
 "nbformat_minor": 2
}
