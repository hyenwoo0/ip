{
 "cells": [
  {
   "cell_type": "markdown",
   "metadata": {},
   "source": [
    "# 공공 데이터 API 기반 크롤링\n",
    "\n",
    "## 1. 출입국관광통계서비스 - 개발 계정 받기"
   ]
  },
  {
   "cell_type": "code",
   "execution_count": 1,
   "metadata": {},
   "outputs": [],
   "source": [
    "# Service_Enc_Key = \"QYiQcd%2Biv7G6qpmPO2WR1Qo%2FrSghkwXi9Di3hA3nZTOH4d5RXgTRGLsHJ5aLg%2BVS0nDMAwotJ8SLFuBjWh8Mag%3D%3D\"\n",
    "Service_Enc_Key = \"FJu4pK8qDPaxr5Wly0tMcZl7pvXx3%2BcNAO3wmnyeONIjDv%2Bb2frtzJ8vK950T0zyzXKy%2BSRASjsoZT8kRBjFKQ%3D%3D\"\n",
    "# Service_Dec_Key = \"QYiQcd+iv7G6qpmPO2WR1Qo/rSghkwXi9Di3hA3nZTOH4d5RXgTRGLsHJ5aLg+VS0nDMAwotJ8SLFuBjWh8Mag==\"\n",
    "Service_Dec_Key = \"FJu4pK8qDPaxr5Wly0tMcZl7pvXx3+cNAO3wmnyeONIjDv+b2frtzJ8vK950T0zyzXKy+SRASjsoZT8kRBjFKQ==\""
   ]
  },
  {
   "cell_type": "code",
   "execution_count": null,
   "metadata": {},
   "outputs": [
    {
     "name": "stdout",
     "output_type": "stream",
     "text": [
      "b'<?xml version=\"1.0\" encoding=\"UTF-8\" standalone=\"yes\"?><response><header><responseTime>2025-03-10T01:32:26.489+09:00</responseTime><resultCode>30</resultCode><resultMsg>SERVICE KEY IS NOT REGISTERED ERROR.</resultMsg></header></response>'\n"
     ]
    }
   ],
   "source": [
    "import requests\n",
    "\n",
    "url = 'http://openapi.tour.go.kr/openapi/service/EdrcntTourismStatsService/getEdrcntTourismStatsList'\n",
    "# params ={'serviceKey' : '서비스키', 'YM' : '201201', 'NAT_CD' : '112', 'ED_CD' : 'E' }\n",
    "params ={'serviceKey' : Service_Enc_Key, 'YM' : '201201', 'NAT_CD' : '112', 'ED_CD' : 'E' }\n",
    "\n",
    "response = requests.get(url, params=params)\n",
    "print(response.content)"
   ]
  },
  {
   "cell_type": "markdown",
   "metadata": {},
   "source": [
    "## 2. 공공데이터 크롤링하기\n",
    "\n",
    "- Open API를 이용하여 출입국관광통계서비스 데이터 중에서 2017년부터 현재까지 입국한 중국인의 수를 크롤링해 보자\n",
    "\n",
    "### (1) 전체 작업 설계하기\n",
    "\n",
    "#### 1. 데이터를 수집할 국가코드와 연도 입력하기\n",
    "\n",
    "        - national_code, nStartYear, nEndYear\n",
    "\n",
    "#### 2. 데이터 수집 요청하기: getTourismStatsService()\n",
    "\n",
    "        - url 구성하여 데이터 요청하기: getTourismStatsItem()\n",
    "        - url 접속하고 요청하기: getRequestUrl()\n",
    "        - 응답 데이터를 리스트로 구성하기: jsonResult.result\n",
    "\n",
    "#### 3. 데이터를 JSON 파일과 CSV 파일로 저장하기: json.dumps().to_csv()"
   ]
  },
  {
   "cell_type": "code",
   "execution_count": 1,
   "metadata": {},
   "outputs": [
    {
     "name": "stdout",
     "output_type": "stream",
     "text": [
      "<< 국내 입국한 외국인의 통계 데이터를 수집합니다. >>\n",
      "http://openapi.tour.go.kr/openapi/service/EdrcntTourismStatsService/getEdrcntTourismStatsList?_type=json&serviceKey=FJu4pK8qDPaxr5Wly0tMcZl7pvXx3+cNAO3wmnyeONIjDv+b2frtzJ8vK950T0zyzXKy+SRASjsoZT8kRBjFKQ==&YM=201201&NAT_CD=112&ED_CD=E\n",
      "[2025-03-15 16:20:04.611804] Url Request Success\n",
      "http://openapi.tour.go.kr/openapi/service/EdrcntTourismStatsService/getEdrcntTourismStatsList?_type=json&serviceKey=FJu4pK8qDPaxr5Wly0tMcZl7pvXx3+cNAO3wmnyeONIjDv+b2frtzJ8vK950T0zyzXKy+SRASjsoZT8kRBjFKQ==&YM=201202&NAT_CD=112&ED_CD=E\n",
      "[2025-03-15 16:20:05.634979] Url Request Success\n",
      "http://openapi.tour.go.kr/openapi/service/EdrcntTourismStatsService/getEdrcntTourismStatsList?_type=json&serviceKey=FJu4pK8qDPaxr5Wly0tMcZl7pvXx3+cNAO3wmnyeONIjDv+b2frtzJ8vK950T0zyzXKy+SRASjsoZT8kRBjFKQ==&YM=201203&NAT_CD=112&ED_CD=E\n",
      "[2025-03-15 16:20:06.658975] Url Request Success\n",
      "http://openapi.tour.go.kr/openapi/service/EdrcntTourismStatsService/getEdrcntTourismStatsList?_type=json&serviceKey=FJu4pK8qDPaxr5Wly0tMcZl7pvXx3+cNAO3wmnyeONIjDv+b2frtzJ8vK950T0zyzXKy+SRASjsoZT8kRBjFKQ==&YM=201204&NAT_CD=112&ED_CD=E\n",
      "[2025-03-15 16:20:07.682709] Url Request Success\n",
      "http://openapi.tour.go.kr/openapi/service/EdrcntTourismStatsService/getEdrcntTourismStatsList?_type=json&serviceKey=FJu4pK8qDPaxr5Wly0tMcZl7pvXx3+cNAO3wmnyeONIjDv+b2frtzJ8vK950T0zyzXKy+SRASjsoZT8kRBjFKQ==&YM=201205&NAT_CD=112&ED_CD=E\n",
      "[2025-03-15 16:20:08.911305] Url Request Success\n",
      "http://openapi.tour.go.kr/openapi/service/EdrcntTourismStatsService/getEdrcntTourismStatsList?_type=json&serviceKey=FJu4pK8qDPaxr5Wly0tMcZl7pvXx3+cNAO3wmnyeONIjDv+b2frtzJ8vK950T0zyzXKy+SRASjsoZT8kRBjFKQ==&YM=201206&NAT_CD=112&ED_CD=E\n",
      "[2025-03-15 16:20:09.835714] Url Request Success\n",
      "http://openapi.tour.go.kr/openapi/service/EdrcntTourismStatsService/getEdrcntTourismStatsList?_type=json&serviceKey=FJu4pK8qDPaxr5Wly0tMcZl7pvXx3+cNAO3wmnyeONIjDv+b2frtzJ8vK950T0zyzXKy+SRASjsoZT8kRBjFKQ==&YM=201207&NAT_CD=112&ED_CD=E\n",
      "[2025-03-15 16:20:10.963396] Url Request Success\n",
      "http://openapi.tour.go.kr/openapi/service/EdrcntTourismStatsService/getEdrcntTourismStatsList?_type=json&serviceKey=FJu4pK8qDPaxr5Wly0tMcZl7pvXx3+cNAO3wmnyeONIjDv+b2frtzJ8vK950T0zyzXKy+SRASjsoZT8kRBjFKQ==&YM=201208&NAT_CD=112&ED_CD=E\n",
      "[2025-03-15 16:20:11.984719] Url Request Success\n",
      "http://openapi.tour.go.kr/openapi/service/EdrcntTourismStatsService/getEdrcntTourismStatsList?_type=json&serviceKey=FJu4pK8qDPaxr5Wly0tMcZl7pvXx3+cNAO3wmnyeONIjDv+b2frtzJ8vK950T0zyzXKy+SRASjsoZT8kRBjFKQ==&YM=201209&NAT_CD=112&ED_CD=E\n",
      "[2025-03-15 16:20:13.008220] Url Request Success\n",
      "http://openapi.tour.go.kr/openapi/service/EdrcntTourismStatsService/getEdrcntTourismStatsList?_type=json&serviceKey=FJu4pK8qDPaxr5Wly0tMcZl7pvXx3+cNAO3wmnyeONIjDv+b2frtzJ8vK950T0zyzXKy+SRASjsoZT8kRBjFKQ==&YM=201210&NAT_CD=112&ED_CD=E\n",
      "[2025-03-15 16:20:14.026623] Url Request Success\n",
      "http://openapi.tour.go.kr/openapi/service/EdrcntTourismStatsService/getEdrcntTourismStatsList?_type=json&serviceKey=FJu4pK8qDPaxr5Wly0tMcZl7pvXx3+cNAO3wmnyeONIjDv+b2frtzJ8vK950T0zyzXKy+SRASjsoZT8kRBjFKQ==&YM=201211&NAT_CD=112&ED_CD=E\n",
      "[2025-03-15 16:20:15.159274] Url Request Success\n",
      "http://openapi.tour.go.kr/openapi/service/EdrcntTourismStatsService/getEdrcntTourismStatsList?_type=json&serviceKey=FJu4pK8qDPaxr5Wly0tMcZl7pvXx3+cNAO3wmnyeONIjDv+b2frtzJ8vK950T0zyzXKy+SRASjsoZT8kRBjFKQ==&YM=201212&NAT_CD=112&ED_CD=E\n",
      "[2025-03-15 16:20:16.182824] Url Request Success\n",
      "http://openapi.tour.go.kr/openapi/service/EdrcntTourismStatsService/getEdrcntTourismStatsList?_type=json&serviceKey=FJu4pK8qDPaxr5Wly0tMcZl7pvXx3+cNAO3wmnyeONIjDv+b2frtzJ8vK950T0zyzXKy+SRASjsoZT8kRBjFKQ==&YM=201301&NAT_CD=112&ED_CD=E\n",
      "[2025-03-15 16:20:17.207170] Url Request Success\n",
      "http://openapi.tour.go.kr/openapi/service/EdrcntTourismStatsService/getEdrcntTourismStatsList?_type=json&serviceKey=FJu4pK8qDPaxr5Wly0tMcZl7pvXx3+cNAO3wmnyeONIjDv+b2frtzJ8vK950T0zyzXKy+SRASjsoZT8kRBjFKQ==&YM=201302&NAT_CD=112&ED_CD=E\n",
      "[2025-03-15 16:20:18.231314] Url Request Success\n",
      "http://openapi.tour.go.kr/openapi/service/EdrcntTourismStatsService/getEdrcntTourismStatsList?_type=json&serviceKey=FJu4pK8qDPaxr5Wly0tMcZl7pvXx3+cNAO3wmnyeONIjDv+b2frtzJ8vK950T0zyzXKy+SRASjsoZT8kRBjFKQ==&YM=201303&NAT_CD=112&ED_CD=E\n",
      "[2025-03-15 16:20:19.254446] Url Request Success\n",
      "http://openapi.tour.go.kr/openapi/service/EdrcntTourismStatsService/getEdrcntTourismStatsList?_type=json&serviceKey=FJu4pK8qDPaxr5Wly0tMcZl7pvXx3+cNAO3wmnyeONIjDv+b2frtzJ8vK950T0zyzXKy+SRASjsoZT8kRBjFKQ==&YM=201304&NAT_CD=112&ED_CD=E\n",
      "[2025-03-15 16:20:20.381062] Url Request Success\n",
      "http://openapi.tour.go.kr/openapi/service/EdrcntTourismStatsService/getEdrcntTourismStatsList?_type=json&serviceKey=FJu4pK8qDPaxr5Wly0tMcZl7pvXx3+cNAO3wmnyeONIjDv+b2frtzJ8vK950T0zyzXKy+SRASjsoZT8kRBjFKQ==&YM=201305&NAT_CD=112&ED_CD=E\n",
      "[2025-03-15 16:20:21.405493] Url Request Success\n",
      "http://openapi.tour.go.kr/openapi/service/EdrcntTourismStatsService/getEdrcntTourismStatsList?_type=json&serviceKey=FJu4pK8qDPaxr5Wly0tMcZl7pvXx3+cNAO3wmnyeONIjDv+b2frtzJ8vK950T0zyzXKy+SRASjsoZT8kRBjFKQ==&YM=201306&NAT_CD=112&ED_CD=E\n",
      "[2025-03-15 16:20:22.429581] Url Request Success\n",
      "http://openapi.tour.go.kr/openapi/service/EdrcntTourismStatsService/getEdrcntTourismStatsList?_type=json&serviceKey=FJu4pK8qDPaxr5Wly0tMcZl7pvXx3+cNAO3wmnyeONIjDv+b2frtzJ8vK950T0zyzXKy+SRASjsoZT8kRBjFKQ==&YM=201307&NAT_CD=112&ED_CD=E\n",
      "[2025-03-15 16:20:23.453745] Url Request Success\n",
      "http://openapi.tour.go.kr/openapi/service/EdrcntTourismStatsService/getEdrcntTourismStatsList?_type=json&serviceKey=FJu4pK8qDPaxr5Wly0tMcZl7pvXx3+cNAO3wmnyeONIjDv+b2frtzJ8vK950T0zyzXKy+SRASjsoZT8kRBjFKQ==&YM=201308&NAT_CD=112&ED_CD=E\n",
      "[2025-03-15 16:20:24.477660] Url Request Success\n",
      "http://openapi.tour.go.kr/openapi/service/EdrcntTourismStatsService/getEdrcntTourismStatsList?_type=json&serviceKey=FJu4pK8qDPaxr5Wly0tMcZl7pvXx3+cNAO3wmnyeONIjDv+b2frtzJ8vK950T0zyzXKy+SRASjsoZT8kRBjFKQ==&YM=201309&NAT_CD=112&ED_CD=E\n",
      "[2025-03-15 16:20:25.604225] Url Request Success\n",
      "http://openapi.tour.go.kr/openapi/service/EdrcntTourismStatsService/getEdrcntTourismStatsList?_type=json&serviceKey=FJu4pK8qDPaxr5Wly0tMcZl7pvXx3+cNAO3wmnyeONIjDv+b2frtzJ8vK950T0zyzXKy+SRASjsoZT8kRBjFKQ==&YM=201310&NAT_CD=112&ED_CD=E\n",
      "[2025-03-15 16:20:26.628235] Url Request Success\n",
      "http://openapi.tour.go.kr/openapi/service/EdrcntTourismStatsService/getEdrcntTourismStatsList?_type=json&serviceKey=FJu4pK8qDPaxr5Wly0tMcZl7pvXx3+cNAO3wmnyeONIjDv+b2frtzJ8vK950T0zyzXKy+SRASjsoZT8kRBjFKQ==&YM=201311&NAT_CD=112&ED_CD=E\n",
      "[2025-03-15 16:20:27.652262] Url Request Success\n",
      "http://openapi.tour.go.kr/openapi/service/EdrcntTourismStatsService/getEdrcntTourismStatsList?_type=json&serviceKey=FJu4pK8qDPaxr5Wly0tMcZl7pvXx3+cNAO3wmnyeONIjDv+b2frtzJ8vK950T0zyzXKy+SRASjsoZT8kRBjFKQ==&YM=201312&NAT_CD=112&ED_CD=E\n",
      "[2025-03-15 16:20:28.615677] Url Request Success\n"
     ]
    }
   ],
   "source": [
    "import os\n",
    "import sys\n",
    "import urllib.request\n",
    "import datetime\n",
    "import timer\n",
    "import json\n",
    "import pandas as pd\n",
    "\n",
    "# ServiceKey = Service_Dec_Key\n",
    "ServiceKey=\"FJu4pK8qDPaxr5Wly0tMcZl7pvXx3+cNAO3wmnyeONIjDv+b2frtzJ8vK950T0zyzXKy+SRASjsoZT8kRBjFKQ==\"\n",
    "\n",
    "\n",
    "def getRequestUrl(url):\n",
    "    req = urllib.request.Request(url)\n",
    "    try:\n",
    "        response = urllib.request.urlopen(req)\n",
    "        if response.getcode() == 200:\n",
    "            print(\"[%s] Url Request Success\" % datetime.datetime.now())\n",
    "            return response.read().decode('utf-8')\n",
    "        \n",
    "    except Exception as e:\n",
    "        print(e)\n",
    "        print(\"[%s] Error for URL : %s\" % (datetime.datetime.now(), url))\n",
    "        return None\n",
    "    \n",
    "def getTourismStatsItem(yyyymm, nat_cd, ed_cd):\n",
    "    service_url = \"http://openapi.tour.go.kr/openapi/service/EdrcntTourismStatsService/getEdrcntTourismStatsList\"\n",
    "    parameters = \"?_type=json&serviceKey=\" + ServiceKey # 인증키\n",
    "    parameters += \"&YM=\" + yyyymm\n",
    "    parameters += \"&NAT_CD=\" + nat_cd\n",
    "    parameters += \"&ED_CD=\" + ed_cd\n",
    "\n",
    "    url = service_url + parameters\n",
    "    print(url)\n",
    "    responseDecode = getRequestUrl(url)\n",
    "\n",
    "    if(responseDecode == None):\n",
    "        return None\n",
    "    else:\n",
    "        return json.loads(responseDecode)\n",
    "    \n",
    "def getTourismStatsService(nat_cd, ed_cd, nStartYear, nEndYear):\n",
    "    jsonResult = []\n",
    "    result = []\n",
    "    natName = ''\n",
    "    dataEND = \"{0}{1:0>2}\".format(str(nEndYear), str(12))  # 데이터 끝 초기화\n",
    "    isDataEnd = 0  # 데이터 끝 확인용 flag 초기화\n",
    "    ed = '' # 오류 발생에 따른 수정 : local variable 'ed' referenced before assignment\n",
    "\n",
    "    for year in range(nStartYear, nEndYear):\n",
    "        for month in range(1, 13):\n",
    "            if(isDataEnd == 1): break   # 데이터 끝 flag 설정되어 있으면 작업 중지\n",
    "            yyyymm = \"{0}{1:0>2}\".format(str(year), str(month))\n",
    "            jsonData = getTourismStatsItem(yyyymm, nat_cd, ed_cd)\n",
    "            if (jsonData['response']['header']['resultMsg'] == 'OK'):\n",
    "                # 입력된 범위까지 수집하지 않았지만, 더이상 제공되는 데이터가 없는 마지막 항목인 경우\n",
    "                if jsonData['response']['body']['items'] == '':\n",
    "                    isDataEnd = 1  # 데이터 끝 flag 설정\n",
    "                    dataEND = '{0}{1:0>2}'.format(str(year), str(month-1))\n",
    "                    print(\"데이터 없음.... \\n 제공되는 통계 데이터는 %s년 %s월까지입니다.\" %(str(year), str(month-1)))\n",
    "                    break\n",
    "                # jsonData를 출력하여 확인\n",
    "                print(json.dumps(jsonData, indent = 4, sort_keys = True, ensure_ascii = False))\n",
    "                natName = jsonData['response']['body']['items']['item']['natKorNm']\n",
    "                natName = natName.replace(' ', '')\n",
    "                num = jsonData['response']['body']['items']['item']['num']\n",
    "                ed = jsonData['response']['body']['items']['item']['ed']\n",
    "                print('[ %s_%s : %s]' %(natName, yyyymm, num))\n",
    "                print('---------------------------------------------------')\n",
    "                jsonResult.append({'nat_name' : natName, 'nat_cd': nat_cd, 'yyyymm': yyyymm, 'visit_cnt': num})\n",
    "                result.append([natName, nat_cd, yyyymm, num])\n",
    "\n",
    "    return (jsonResult, result, natName, ed, dataEND)\n",
    "\n",
    "\n",
    "def main():\n",
    "    jsonResult = []\n",
    "    result = []\n",
    "\n",
    "    print(\"<< 국내 입국한 외국인의 통계 데이터를 수집합니다. >>\")\n",
    "    nat_cd = input(\"국가 코드를 입력하세요(중국: 112 / 일본: 130 / 미국: 275) : \")\n",
    "    nStartYear = int(input('데이터를 몇 년부터 수집할까요? : '))\n",
    "    nEndYear = int(input('데이터를 몇 년까지 수집할까요? : '))\n",
    "    ed_cd = \"E\" # E: 방한외래관광객, D: 해외출국\n",
    "\n",
    "    jsonResult, result, natName, ed, dataEND = getTourismStatsService(nat_cd, ed_cd, nStartYear, nEndYear)\n",
    "\n",
    "    # 파일저장 1 : json 파일\n",
    "    with open('./%s_%s_%d_%s.json' %(natName, ed, nStartYear, dataEND), 'w', encoding='utf8') as outfile:\n",
    "        jsonFile = json.dumps(jsonResult, indent = 4, sort_keys=True, ensure_ascii=False)\n",
    "        outfile.write(jsonFile)\n",
    "\n",
    "    # 파일저장 2 : cvs 파일\n",
    "    columns = ['입국자국가', '국가코드', '입국연월', '입국자 수']\n",
    "    result_df = pd.DataFrame(result, columns=columns)\n",
    "    # result_df.to_csv('./%s_%s_%d_%s.csv' % (natName, ed, nStartYear, dataEND), index = False, encoding= 'cp949')\n",
    "    result_df.to_csv('./%s_%s_%d_%s.csv' % (natName, ed, nStartYear, dataEND), index = False, encoding= 'utf8')\n",
    "\n",
    "if __name__  == '__main__':\n",
    "    main()"
   ]
  },
  {
   "cell_type": "code",
   "execution_count": 6,
   "metadata": {},
   "outputs": [
    {
     "name": "stdout",
     "output_type": "stream",
     "text": [
      "1970010512\n"
     ]
    }
   ],
   "source": [
    "nEndYear = 19700105\n",
    "dataEND = \"{0}{1:0>2}\".format(str(nEndYear), str(12))\n",
    "print(dataEND)"
   ]
  }
 ],
 "metadata": {
  "kernelspec": {
   "display_name": "ip",
   "language": "python",
   "name": "python3"
  },
  "language_info": {
   "codemirror_mode": {
    "name": "ipython",
    "version": 3
   },
   "file_extension": ".py",
   "mimetype": "text/x-python",
   "name": "python",
   "nbconvert_exporter": "python",
   "pygments_lexer": "ipython3",
   "version": "3.10.16"
  }
 },
 "nbformat": 4,
 "nbformat_minor": 2
}
